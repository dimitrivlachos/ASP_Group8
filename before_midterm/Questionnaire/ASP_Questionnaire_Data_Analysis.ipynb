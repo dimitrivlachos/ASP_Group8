{
 "cells": [
  {
   "cell_type": "markdown",
   "metadata": {},
   "source": [
    "# CM2020-Agile Software Projects\n",
    "## Questionnaire Data Analysis,           Group 8, Dec. 2021"
   ]
  },
  {
   "cell_type": "code",
   "execution_count": 2,
   "metadata": {},
   "outputs": [
    {
     "name": "stdout",
     "output_type": "stream",
     "text": [
      "Requirement already satisfied: matplotlib in /opt/conda/lib/python3.7/site-packages (3.2.1)\n",
      "Requirement already satisfied: cycler>=0.10 in /opt/conda/lib/python3.7/site-packages (from matplotlib) (0.10.0)\n",
      "Requirement already satisfied: pyparsing!=2.0.4,!=2.1.2,!=2.1.6,>=2.0.1 in /opt/conda/lib/python3.7/site-packages (from matplotlib) (2.4.7)\n",
      "Requirement already satisfied: kiwisolver>=1.0.1 in /opt/conda/lib/python3.7/site-packages (from matplotlib) (1.2.0)\n",
      "Requirement already satisfied: numpy>=1.11 in /opt/conda/lib/python3.7/site-packages (from matplotlib) (1.18.4)\n",
      "Requirement already satisfied: python-dateutil>=2.1 in /opt/conda/lib/python3.7/site-packages (from matplotlib) (2.8.1)\n",
      "Requirement already satisfied: six in /opt/conda/lib/python3.7/site-packages (from cycler>=0.10->matplotlib) (1.14.0)\n",
      "\u001b[33mWARNING: You are using pip version 20.2.3; however, version 21.3.1 is available.\n",
      "You should consider upgrading via the '/opt/conda/bin/python3 -m pip install --upgrade pip' command.\u001b[0m\n"
     ]
    }
   ],
   "source": [
    "!pip install matplotlib  # install the matplotlib, so that we can plot statistical graphs. "
   ]
  },
  {
   "cell_type": "code",
   "execution_count": 3,
   "metadata": {},
   "outputs": [],
   "source": [
    "import matplotlib.pyplot as plt  # shorten the name so that it's simple to reuse \n",
    "import numpy as np   # NumPy library operated numerical calculations, especially the matrix operations\n",
    "import pandas as pd  # Pandas is a library based on NumPy. Pandas focuses on statistical analysis. "
   ]
  },
  {
   "cell_type": "code",
   "execution_count": 4,
   "metadata": {},
   "outputs": [],
   "source": [
    "# In order to make the plots more beautiful: \n",
    "import matplotlib as mpl  # import the plot drawing library and shorten the name\n",
    "mpl.style.use('ggplot')  # adjusts the style to emulate ggplot (a popular plotting package for R)"
   ]
  },
  {
   "cell_type": "code",
   "execution_count": 5,
   "metadata": {},
   "outputs": [],
   "source": [
    "import seaborn as sns  # statistical data visualisation tool which can draw high-level plots"
   ]
  },
  {
   "cell_type": "code",
   "execution_count": 6,
   "metadata": {},
   "outputs": [
    {
     "data": {
      "text/html": [
       "<div>\n",
       "<style scoped>\n",
       "    .dataframe tbody tr th:only-of-type {\n",
       "        vertical-align: middle;\n",
       "    }\n",
       "\n",
       "    .dataframe tbody tr th {\n",
       "        vertical-align: top;\n",
       "    }\n",
       "\n",
       "    .dataframe thead th {\n",
       "        text-align: right;\n",
       "    }\n",
       "</style>\n",
       "<table border=\"1\" class=\"dataframe\">\n",
       "  <thead>\n",
       "    <tr style=\"text-align: right;\">\n",
       "      <th></th>\n",
       "      <th>#</th>\n",
       "      <th>gender</th>\n",
       "      <th>from</th>\n",
       "      <th>job</th>\n",
       "      <th>Do you know about Tower Defense Games? （你知道塔防游戏吗？）</th>\n",
       "      <th>How often do you play Tower Defense Games? （多久玩一次塔防游戏？）</th>\n",
       "      <th>Of the tower defence games you like, what game(s) did you like? （塔防游戏中，你最喜欢哪个？）</th>\n",
       "      <th>How difficult would you like a tower defence game to be? （你喜欢哪种游戏难度？）</th>\n",
       "      <th>Cute &amp; cartoon (卡通可爱）</th>\n",
       "      <th>War-related （战争相关）</th>\n",
       "      <th>...</th>\n",
       "      <th>Other languages （其他语种）</th>\n",
       "      <th>Science （科学）</th>\n",
       "      <th>History （历史）</th>\n",
       "      <th>Literature （文学）</th>\n",
       "      <th>Music （音乐）</th>\n",
       "      <th>non-educational theme （不喜欢教育主题）</th>\n",
       "      <th>Of the tower defence games you have played, what improvements would you like to see? （你对塔防游戏有什么改进建议？）</th>\n",
       "      <th>Start Date (UTC)</th>\n",
       "      <th>Submit Date (UTC)</th>\n",
       "      <th>Network ID</th>\n",
       "    </tr>\n",
       "  </thead>\n",
       "  <tbody>\n",
       "    <tr>\n",
       "      <th>0</th>\n",
       "      <td>ywtewt987uyfj1m1ywtew0t1y23dj8s6</td>\n",
       "      <td>Female （女）</td>\n",
       "      <td>Europe （欧洲）</td>\n",
       "      <td>Student （学生）</td>\n",
       "      <td>Yes, it's just building towers and then defens...</td>\n",
       "      <td>Seldom （从不）</td>\n",
       "      <td>NaN</td>\n",
       "      <td>Tough but fair （难，但有道理）</td>\n",
       "      <td>Cute &amp; cartoon (卡通可爱）</td>\n",
       "      <td>War-related （战争相关）</td>\n",
       "      <td>...</td>\n",
       "      <td>Other languages （其他语种）</td>\n",
       "      <td>NaN</td>\n",
       "      <td>NaN</td>\n",
       "      <td>NaN</td>\n",
       "      <td>NaN</td>\n",
       "      <td>NaN</td>\n",
       "      <td>Ability to speed up attacks if there is a leve...</td>\n",
       "      <td>2021-11-30 16:32:31</td>\n",
       "      <td>2021-11-30 16:35:34</td>\n",
       "      <td>8bbb94824d</td>\n",
       "    </tr>\n",
       "    <tr>\n",
       "      <th>1</th>\n",
       "      <td>tx4osjg8nb840xvwtx43epsisnew9vb2</td>\n",
       "      <td>Male （男）</td>\n",
       "      <td>Europe （欧洲）</td>\n",
       "      <td>Experienced programmer / Game industry （资深程序员/...</td>\n",
       "      <td>Yes, it's just building towers and then defens...</td>\n",
       "      <td>Seldom （从不）</td>\n",
       "      <td>None I can remember</td>\n",
       "      <td>Tough but fair （难，但有道理）</td>\n",
       "      <td>Cute &amp; cartoon (卡通可爱）</td>\n",
       "      <td>NaN</td>\n",
       "      <td>...</td>\n",
       "      <td>Other languages （其他语种）</td>\n",
       "      <td>Science （科学）</td>\n",
       "      <td>History （历史）</td>\n",
       "      <td>Literature （文学）</td>\n",
       "      <td>Music （音乐）</td>\n",
       "      <td>NaN</td>\n",
       "      <td>I have very little experience of them</td>\n",
       "      <td>2021-11-30 14:59:49</td>\n",
       "      <td>2021-11-30 15:02:53</td>\n",
       "      <td>32d25e2d15</td>\n",
       "    </tr>\n",
       "    <tr>\n",
       "      <th>2</th>\n",
       "      <td>peuu021bjbumfpeuugna719vjx7fvfyz</td>\n",
       "      <td>Female （女）</td>\n",
       "      <td>Asia （亚洲）</td>\n",
       "      <td>Student （学生）</td>\n",
       "      <td>Yes, it's just building towers and then defens...</td>\n",
       "      <td>Seldom （从不）</td>\n",
       "      <td>plants vs zombies</td>\n",
       "      <td>Tough but fair （难，但有道理）</td>\n",
       "      <td>Cute &amp; cartoon (卡通可爱）</td>\n",
       "      <td>War-related （战争相关）</td>\n",
       "      <td>...</td>\n",
       "      <td>NaN</td>\n",
       "      <td>NaN</td>\n",
       "      <td>NaN</td>\n",
       "      <td>NaN</td>\n",
       "      <td>NaN</td>\n",
       "      <td>I don't like educational theme （不喜欢教育主题）</td>\n",
       "      <td>skin customization</td>\n",
       "      <td>2021-11-30 11:48:19</td>\n",
       "      <td>2021-11-30 11:49:15</td>\n",
       "      <td>b32197371e</td>\n",
       "    </tr>\n",
       "    <tr>\n",
       "      <th>3</th>\n",
       "      <td>qw8pehko7z6sq3mx4ftznrqw8pefn68c</td>\n",
       "      <td>Female （女）</td>\n",
       "      <td>Asia （亚洲）</td>\n",
       "      <td>Education （教育）</td>\n",
       "      <td>No, I've never played it before. （不知道，没玩过）</td>\n",
       "      <td>Seldom （从不）</td>\n",
       "      <td>NaN</td>\n",
       "      <td>Tough but fair （难，但有道理）</td>\n",
       "      <td>Cute &amp; cartoon (卡通可爱）</td>\n",
       "      <td>NaN</td>\n",
       "      <td>...</td>\n",
       "      <td>NaN</td>\n",
       "      <td>NaN</td>\n",
       "      <td>NaN</td>\n",
       "      <td>NaN</td>\n",
       "      <td>Music （音乐）</td>\n",
       "      <td>NaN</td>\n",
       "      <td>Never played</td>\n",
       "      <td>2021-11-30 11:38:13</td>\n",
       "      <td>2021-11-30 11:39:49</td>\n",
       "      <td>f422d92906</td>\n",
       "    </tr>\n",
       "    <tr>\n",
       "      <th>4</th>\n",
       "      <td>513yboyz2fy50i0513ybo5yyuw47dny4</td>\n",
       "      <td>Male （男）</td>\n",
       "      <td>Europe （欧洲）</td>\n",
       "      <td>IT related （信息技术）</td>\n",
       "      <td>Yes, it's just building towers and then defens...</td>\n",
       "      <td>Seldom （从不）</td>\n",
       "      <td>Epic war 2</td>\n",
       "      <td>Tough but fair （难，但有道理）</td>\n",
       "      <td>NaN</td>\n",
       "      <td>War-related （战争相关）</td>\n",
       "      <td>...</td>\n",
       "      <td>NaN</td>\n",
       "      <td>NaN</td>\n",
       "      <td>History （历史）</td>\n",
       "      <td>NaN</td>\n",
       "      <td>NaN</td>\n",
       "      <td>NaN</td>\n",
       "      <td>More levels</td>\n",
       "      <td>2021-11-30 10:48:37</td>\n",
       "      <td>2021-11-30 11:00:30</td>\n",
       "      <td>3cdc12ad74</td>\n",
       "    </tr>\n",
       "    <tr>\n",
       "      <th>5</th>\n",
       "      <td>8zrg43tf9byf649cdw8zrg43tkqathmm</td>\n",
       "      <td>Female （女）</td>\n",
       "      <td>Asia （亚洲）</td>\n",
       "      <td>Student （学生）</td>\n",
       "      <td>Yes, it's just building towers and then defens...</td>\n",
       "      <td>2~3 times a week （一周两三次）</td>\n",
       "      <td>arknights</td>\n",
       "      <td>Tough but fair （难，但有道理）</td>\n",
       "      <td>NaN</td>\n",
       "      <td>NaN</td>\n",
       "      <td>...</td>\n",
       "      <td>Other languages （其他语种）</td>\n",
       "      <td>NaN</td>\n",
       "      <td>NaN</td>\n",
       "      <td>NaN</td>\n",
       "      <td>NaN</td>\n",
       "      <td>NaN</td>\n",
       "      <td>more fair less grind</td>\n",
       "      <td>2021-11-30 09:41:44</td>\n",
       "      <td>2021-11-30 09:44:48</td>\n",
       "      <td>ddd723e33f</td>\n",
       "    </tr>\n",
       "    <tr>\n",
       "      <th>6</th>\n",
       "      <td>goj641zg0zropaihgojaukagfuv376w3</td>\n",
       "      <td>Male （男）</td>\n",
       "      <td>Africa （非洲）</td>\n",
       "      <td>Experienced programmer / Game industry （资深程序员/...</td>\n",
       "      <td>Somewhat, I've played Plants vs. Zombies, but ...</td>\n",
       "      <td>Seldom （从不）</td>\n",
       "      <td>Assassin's creed Revelation's Tower Defense</td>\n",
       "      <td>Tough but fair （难，但有道理）</td>\n",
       "      <td>Cute &amp; cartoon (卡通可爱）</td>\n",
       "      <td>War-related （战争相关）</td>\n",
       "      <td>...</td>\n",
       "      <td>Other languages （其他语种）</td>\n",
       "      <td>Science （科学）</td>\n",
       "      <td>History （历史）</td>\n",
       "      <td>Literature （文学）</td>\n",
       "      <td>Music （音乐）</td>\n",
       "      <td>NaN</td>\n",
       "      <td>Naming squads or troops ability</td>\n",
       "      <td>2021-11-30 08:49:05</td>\n",
       "      <td>2021-11-30 08:59:11</td>\n",
       "      <td>f71efd0233</td>\n",
       "    </tr>\n",
       "    <tr>\n",
       "      <th>7</th>\n",
       "      <td>kpmjicd21kgaf8h6kpmjv65j53zp04jw</td>\n",
       "      <td>Male （男）</td>\n",
       "      <td>Europe （欧洲）</td>\n",
       "      <td>Experienced programmer / Game industry （资深程序员/...</td>\n",
       "      <td>Yes, it's just building towers and then defens...</td>\n",
       "      <td>Seldom （从不）</td>\n",
       "      <td>Orcs Must Die 2</td>\n",
       "      <td>Like Dark Souls with your toes （地狱难度）</td>\n",
       "      <td>NaN</td>\n",
       "      <td>War-related （战争相关）</td>\n",
       "      <td>...</td>\n",
       "      <td>NaN</td>\n",
       "      <td>NaN</td>\n",
       "      <td>NaN</td>\n",
       "      <td>NaN</td>\n",
       "      <td>NaN</td>\n",
       "      <td>I don't like educational theme （不喜欢教育主题）</td>\n",
       "      <td>Bigger freedom for enemy's movement</td>\n",
       "      <td>2021-11-30 08:29:52</td>\n",
       "      <td>2021-11-30 08:34:20</td>\n",
       "      <td>51647115cd</td>\n",
       "    </tr>\n",
       "    <tr>\n",
       "      <th>8</th>\n",
       "      <td>fd7nvrfnyycloi68ht8vsfd7nvwlp2hr</td>\n",
       "      <td>Male （男）</td>\n",
       "      <td>Asia （亚洲）</td>\n",
       "      <td>IT related （信息技术）</td>\n",
       "      <td>Yes, it's just building towers and then defens...</td>\n",
       "      <td>Once a month （一个月一次）</td>\n",
       "      <td>Defender III</td>\n",
       "      <td>Tough but fair （难，但有道理）</td>\n",
       "      <td>Cute &amp; cartoon (卡通可爱）</td>\n",
       "      <td>NaN</td>\n",
       "      <td>...</td>\n",
       "      <td>NaN</td>\n",
       "      <td>Science （科学）</td>\n",
       "      <td>NaN</td>\n",
       "      <td>NaN</td>\n",
       "      <td>Music （音乐）</td>\n",
       "      <td>NaN</td>\n",
       "      <td>More skills and magic</td>\n",
       "      <td>2021-11-30 08:26:15</td>\n",
       "      <td>2021-11-30 08:30:57</td>\n",
       "      <td>cc4e270e77</td>\n",
       "    </tr>\n",
       "    <tr>\n",
       "      <th>9</th>\n",
       "      <td>pac1o144yaw4mo84bh0opacmslj6fd0q</td>\n",
       "      <td>Female （女）</td>\n",
       "      <td>Europe （欧洲）</td>\n",
       "      <td>Others （其他）</td>\n",
       "      <td>No, I've never played it before. （不知道，没玩过）</td>\n",
       "      <td>Seldom （从不）</td>\n",
       "      <td>Nonogram, Zen Match</td>\n",
       "      <td>Tough but fair （难，但有道理）</td>\n",
       "      <td>NaN</td>\n",
       "      <td>NaN</td>\n",
       "      <td>...</td>\n",
       "      <td>NaN</td>\n",
       "      <td>NaN</td>\n",
       "      <td>History （历史）</td>\n",
       "      <td>NaN</td>\n",
       "      <td>NaN</td>\n",
       "      <td>NaN</td>\n",
       "      <td>'--</td>\n",
       "      <td>2021-11-30 08:26:43</td>\n",
       "      <td>2021-11-30 08:28:33</td>\n",
       "      <td>89cd609e02</td>\n",
       "    </tr>\n",
       "    <tr>\n",
       "      <th>10</th>\n",
       "      <td>刘伊琳</td>\n",
       "      <td>Female （女）</td>\n",
       "      <td>Asia （亚洲）</td>\n",
       "      <td>Bank （银行)</td>\n",
       "      <td>Somewhat, I've played Plants vs. Zombies, but ...</td>\n",
       "      <td>Once a month （一个月一次）</td>\n",
       "      <td>NaN</td>\n",
       "      <td>Tough but fair （难，但有道理）</td>\n",
       "      <td>Cute &amp; cartoon (卡通可爱）</td>\n",
       "      <td>NaN</td>\n",
       "      <td>...</td>\n",
       "      <td>NaN</td>\n",
       "      <td>NaN</td>\n",
       "      <td>NaN</td>\n",
       "      <td>NaN</td>\n",
       "      <td>NaN</td>\n",
       "      <td>I don't like educational theme （不喜欢教育主题）</td>\n",
       "      <td>Don't like the payment. 付费因素较高</td>\n",
       "      <td>NaN</td>\n",
       "      <td>2021-11-30 17:00:48</td>\n",
       "      <td>NaN</td>\n",
       "    </tr>\n",
       "    <tr>\n",
       "      <th>11</th>\n",
       "      <td>送快递的狐狸喵</td>\n",
       "      <td>Male （男）</td>\n",
       "      <td>Asia （亚洲）</td>\n",
       "      <td>IT related （信息技术）</td>\n",
       "      <td>Yes, it's just building towers and then defens...</td>\n",
       "      <td>Seldom （从不）</td>\n",
       "      <td>In Wechat small program, there is a sth. Calle...</td>\n",
       "      <td>Tough but fair （难，但有道理）</td>\n",
       "      <td>Cute &amp; cartoon (卡通可爱）</td>\n",
       "      <td>NaN</td>\n",
       "      <td>...</td>\n",
       "      <td>Other languages （其他语种）</td>\n",
       "      <td>NaN</td>\n",
       "      <td>NaN</td>\n",
       "      <td>NaN</td>\n",
       "      <td>NaN</td>\n",
       "      <td>NaN</td>\n",
       "      <td>It's too tough. 太难了</td>\n",
       "      <td>NaN</td>\n",
       "      <td>2021-11-30 17:20:20</td>\n",
       "      <td>NaN</td>\n",
       "    </tr>\n",
       "    <tr>\n",
       "      <th>12</th>\n",
       "      <td>利剑</td>\n",
       "      <td>Male （男）</td>\n",
       "      <td>Asia （亚洲）</td>\n",
       "      <td>Bank （银行)</td>\n",
       "      <td>No, I've never played it before. （不知道，没玩过）</td>\n",
       "      <td>Seldom （从不）</td>\n",
       "      <td>Don't know. 不知道</td>\n",
       "      <td>Tough but fair （难，但有道理）</td>\n",
       "      <td>NaN</td>\n",
       "      <td>War-related （战争相关）</td>\n",
       "      <td>...</td>\n",
       "      <td>NaN</td>\n",
       "      <td>NaN</td>\n",
       "      <td>History （历史）</td>\n",
       "      <td>NaN</td>\n",
       "      <td>Music （音乐）</td>\n",
       "      <td>NaN</td>\n",
       "      <td>NaN</td>\n",
       "      <td>NaN</td>\n",
       "      <td>2021-11-30 17:32:54</td>\n",
       "      <td>NaN</td>\n",
       "    </tr>\n",
       "    <tr>\n",
       "      <th>13</th>\n",
       "      <td>TuringSnowy</td>\n",
       "      <td>Male （男）</td>\n",
       "      <td>Asia （亚洲）</td>\n",
       "      <td>Education （教育）</td>\n",
       "      <td>No, I've never played it before. （不知道，没玩过）</td>\n",
       "      <td>Seldom （从不）</td>\n",
       "      <td>Haven't played it. 没玩过</td>\n",
       "      <td>Tough but fair （难，但有道理）</td>\n",
       "      <td>NaN</td>\n",
       "      <td>NaN</td>\n",
       "      <td>...</td>\n",
       "      <td>NaN</td>\n",
       "      <td>Science （科学）</td>\n",
       "      <td>NaN</td>\n",
       "      <td>NaN</td>\n",
       "      <td>NaN</td>\n",
       "      <td>NaN</td>\n",
       "      <td>None. 无</td>\n",
       "      <td>NaN</td>\n",
       "      <td>2021-11-30 18:06:49</td>\n",
       "      <td>NaN</td>\n",
       "    </tr>\n",
       "    <tr>\n",
       "      <th>14</th>\n",
       "      <td>七柱🏛篝火🌌</td>\n",
       "      <td>Female （女）</td>\n",
       "      <td>Asia （亚洲）</td>\n",
       "      <td>Student （学生）</td>\n",
       "      <td>Yes, it's just building towers and then defens...</td>\n",
       "      <td>Once a week （一周一次）</td>\n",
       "      <td>Defending Radish. 保卫萝卜</td>\n",
       "      <td>Tough but fair （难，但有道理）</td>\n",
       "      <td>Cute &amp; cartoon (卡通可爱）</td>\n",
       "      <td>NaN</td>\n",
       "      <td>...</td>\n",
       "      <td>Other languages （其他语种）</td>\n",
       "      <td>Science （科学）</td>\n",
       "      <td>NaN</td>\n",
       "      <td>NaN</td>\n",
       "      <td>Music （音乐）</td>\n",
       "      <td>NaN</td>\n",
       "      <td>I am slow to accept new things. Don't update t...</td>\n",
       "      <td>NaN</td>\n",
       "      <td>2021-11-30 18:43:45</td>\n",
       "      <td>NaN</td>\n",
       "    </tr>\n",
       "    <tr>\n",
       "      <th>15</th>\n",
       "      <td>Kaikai</td>\n",
       "      <td>Female （女）</td>\n",
       "      <td>Asia （亚洲）</td>\n",
       "      <td>Arts &amp; music （艺术&amp;音乐）</td>\n",
       "      <td>Somewhat, I've played Plants vs. Zombies, but ...</td>\n",
       "      <td>Once a month （一个月一次）</td>\n",
       "      <td>Tank battles. 几百年前小霸王游戏机里的坦克大战</td>\n",
       "      <td>Impossible to fail （永远都不失败）</td>\n",
       "      <td>NaN</td>\n",
       "      <td>War-related （战争相关）</td>\n",
       "      <td>...</td>\n",
       "      <td>NaN</td>\n",
       "      <td>NaN</td>\n",
       "      <td>History （历史）</td>\n",
       "      <td>Literature （文学）</td>\n",
       "      <td>NaN</td>\n",
       "      <td>I don't like educational theme （不喜欢教育主题）</td>\n",
       "      <td>I hope Plants vs Zombies can allow users to de...</td>\n",
       "      <td>NaN</td>\n",
       "      <td>2021-12-01 03:19:12</td>\n",
       "      <td>NaN</td>\n",
       "    </tr>\n",
       "    <tr>\n",
       "      <th>16</th>\n",
       "      <td>Yilong</td>\n",
       "      <td>Male （男）</td>\n",
       "      <td>Asia （亚洲）</td>\n",
       "      <td>Free （自由职业）</td>\n",
       "      <td>Somewhat, I've played Plants vs. Zombies, but ...</td>\n",
       "      <td>Once a month （一个月一次）</td>\n",
       "      <td>Montizuma's Anger. 蒙提祖玛之怒</td>\n",
       "      <td>Tough but fair （难，但有道理）</td>\n",
       "      <td>NaN</td>\n",
       "      <td>War-related （战争相关）</td>\n",
       "      <td>...</td>\n",
       "      <td>NaN</td>\n",
       "      <td>Science （科学）</td>\n",
       "      <td>History （历史）</td>\n",
       "      <td>NaN</td>\n",
       "      <td>NaN</td>\n",
       "      <td>NaN</td>\n",
       "      <td>I hope the shortcut keys would be more user-fr...</td>\n",
       "      <td>NaN</td>\n",
       "      <td>2021-12-01 08:12:44</td>\n",
       "      <td>NaN</td>\n",
       "    </tr>\n",
       "  </tbody>\n",
       "</table>\n",
       "<p>17 rows × 26 columns</p>\n",
       "</div>"
      ],
      "text/plain": [
       "                                   #      gender         from  \\\n",
       "0   ywtewt987uyfj1m1ywtew0t1y23dj8s6  Female （女）  Europe （欧洲）   \n",
       "1   tx4osjg8nb840xvwtx43epsisnew9vb2    Male （男）  Europe （欧洲）   \n",
       "2   peuu021bjbumfpeuugna719vjx7fvfyz  Female （女）    Asia （亚洲）   \n",
       "3   qw8pehko7z6sq3mx4ftznrqw8pefn68c  Female （女）    Asia （亚洲）   \n",
       "4   513yboyz2fy50i0513ybo5yyuw47dny4    Male （男）  Europe （欧洲）   \n",
       "5   8zrg43tf9byf649cdw8zrg43tkqathmm  Female （女）    Asia （亚洲）   \n",
       "6   goj641zg0zropaihgojaukagfuv376w3    Male （男）  Africa （非洲）   \n",
       "7   kpmjicd21kgaf8h6kpmjv65j53zp04jw    Male （男）  Europe （欧洲）   \n",
       "8   fd7nvrfnyycloi68ht8vsfd7nvwlp2hr    Male （男）    Asia （亚洲）   \n",
       "9   pac1o144yaw4mo84bh0opacmslj6fd0q  Female （女）  Europe （欧洲）   \n",
       "10                               刘伊琳  Female （女）    Asia （亚洲）   \n",
       "11                           送快递的狐狸喵    Male （男）    Asia （亚洲）   \n",
       "12                                利剑    Male （男）    Asia （亚洲）   \n",
       "13                       TuringSnowy    Male （男）    Asia （亚洲）   \n",
       "14                            七柱🏛篝火🌌  Female （女）    Asia （亚洲）   \n",
       "15                            Kaikai  Female （女）    Asia （亚洲）   \n",
       "16                            Yilong    Male （男）    Asia （亚洲）   \n",
       "\n",
       "                                                  job  \\\n",
       "0                                        Student （学生）   \n",
       "1   Experienced programmer / Game industry （资深程序员/...   \n",
       "2                                        Student （学生）   \n",
       "3                                      Education （教育）   \n",
       "4                                   IT related （信息技术）   \n",
       "5                                        Student （学生）   \n",
       "6   Experienced programmer / Game industry （资深程序员/...   \n",
       "7   Experienced programmer / Game industry （资深程序员/...   \n",
       "8                                   IT related （信息技术）   \n",
       "9                                         Others （其他）   \n",
       "10                                          Bank （银行)   \n",
       "11                                  IT related （信息技术）   \n",
       "12                                          Bank （银行)   \n",
       "13                                     Education （教育）   \n",
       "14                                       Student （学生）   \n",
       "15                               Arts & music （艺术&音乐）   \n",
       "16                                        Free （自由职业）   \n",
       "\n",
       "   Do you know about Tower Defense Games? （你知道塔防游戏吗？）  \\\n",
       "0   Yes, it's just building towers and then defens...   \n",
       "1   Yes, it's just building towers and then defens...   \n",
       "2   Yes, it's just building towers and then defens...   \n",
       "3          No, I've never played it before. （不知道，没玩过）   \n",
       "4   Yes, it's just building towers and then defens...   \n",
       "5   Yes, it's just building towers and then defens...   \n",
       "6   Somewhat, I've played Plants vs. Zombies, but ...   \n",
       "7   Yes, it's just building towers and then defens...   \n",
       "8   Yes, it's just building towers and then defens...   \n",
       "9          No, I've never played it before. （不知道，没玩过）   \n",
       "10  Somewhat, I've played Plants vs. Zombies, but ...   \n",
       "11  Yes, it's just building towers and then defens...   \n",
       "12         No, I've never played it before. （不知道，没玩过）   \n",
       "13         No, I've never played it before. （不知道，没玩过）   \n",
       "14  Yes, it's just building towers and then defens...   \n",
       "15  Somewhat, I've played Plants vs. Zombies, but ...   \n",
       "16  Somewhat, I've played Plants vs. Zombies, but ...   \n",
       "\n",
       "   How often do you play Tower Defense Games? （多久玩一次塔防游戏？）  \\\n",
       "0                                         Seldom （从不）        \n",
       "1                                         Seldom （从不）        \n",
       "2                                         Seldom （从不）        \n",
       "3                                         Seldom （从不）        \n",
       "4                                         Seldom （从不）        \n",
       "5                            2~3 times a week （一周两三次）        \n",
       "6                                         Seldom （从不）        \n",
       "7                                         Seldom （从不）        \n",
       "8                                Once a month （一个月一次）        \n",
       "9                                         Seldom （从不）        \n",
       "10                               Once a month （一个月一次）        \n",
       "11                                        Seldom （从不）        \n",
       "12                                        Seldom （从不）        \n",
       "13                                        Seldom （从不）        \n",
       "14                                 Once a week （一周一次）        \n",
       "15                               Once a month （一个月一次）        \n",
       "16                               Once a month （一个月一次）        \n",
       "\n",
       "   Of the tower defence games you like, what game(s) did you like? （塔防游戏中，你最喜欢哪个？）  \\\n",
       "0                                                 NaN                                \n",
       "1                                 None I can remember                                \n",
       "2                                   plants vs zombies                                \n",
       "3                                                 NaN                                \n",
       "4                                          Epic war 2                                \n",
       "5                                           arknights                                \n",
       "6         Assassin's creed Revelation's Tower Defense                                \n",
       "7                                     Orcs Must Die 2                                \n",
       "8                                        Defender III                                \n",
       "9                                 Nonogram, Zen Match                                \n",
       "10                                                NaN                                \n",
       "11  In Wechat small program, there is a sth. Calle...                                \n",
       "12                                    Don't know. 不知道                                \n",
       "13                             Haven't played it. 没玩过                                \n",
       "14                             Defending Radish. 保卫萝卜                                \n",
       "15                     Tank battles. 几百年前小霸王游戏机里的坦克大战                                \n",
       "16                          Montizuma's Anger. 蒙提祖玛之怒                                \n",
       "\n",
       "   How difficult would you like a tower defence game to be? （你喜欢哪种游戏难度？）  \\\n",
       "0                             Tough but fair （难，但有道理）                      \n",
       "1                             Tough but fair （难，但有道理）                      \n",
       "2                             Tough but fair （难，但有道理）                      \n",
       "3                             Tough but fair （难，但有道理）                      \n",
       "4                             Tough but fair （难，但有道理）                      \n",
       "5                             Tough but fair （难，但有道理）                      \n",
       "6                             Tough but fair （难，但有道理）                      \n",
       "7               Like Dark Souls with your toes （地狱难度）                      \n",
       "8                             Tough but fair （难，但有道理）                      \n",
       "9                             Tough but fair （难，但有道理）                      \n",
       "10                            Tough but fair （难，但有道理）                      \n",
       "11                            Tough but fair （难，但有道理）                      \n",
       "12                            Tough but fair （难，但有道理）                      \n",
       "13                            Tough but fair （难，但有道理）                      \n",
       "14                            Tough but fair （难，但有道理）                      \n",
       "15                        Impossible to fail （永远都不失败）                      \n",
       "16                            Tough but fair （难，但有道理）                      \n",
       "\n",
       "    Cute & cartoon (卡通可爱）  War-related （战争相关）  ...  Other languages （其他语种）  \\\n",
       "0   Cute & cartoon (卡通可爱）  War-related （战争相关）  ...  Other languages （其他语种）   \n",
       "1   Cute & cartoon (卡通可爱）                 NaN  ...  Other languages （其他语种）   \n",
       "2   Cute & cartoon (卡通可爱）  War-related （战争相关）  ...                     NaN   \n",
       "3   Cute & cartoon (卡通可爱）                 NaN  ...                     NaN   \n",
       "4                     NaN  War-related （战争相关）  ...                     NaN   \n",
       "5                     NaN                 NaN  ...  Other languages （其他语种）   \n",
       "6   Cute & cartoon (卡通可爱）  War-related （战争相关）  ...  Other languages （其他语种）   \n",
       "7                     NaN  War-related （战争相关）  ...                     NaN   \n",
       "8   Cute & cartoon (卡通可爱）                 NaN  ...                     NaN   \n",
       "9                     NaN                 NaN  ...                     NaN   \n",
       "10  Cute & cartoon (卡通可爱）                 NaN  ...                     NaN   \n",
       "11  Cute & cartoon (卡通可爱）                 NaN  ...  Other languages （其他语种）   \n",
       "12                    NaN  War-related （战争相关）  ...                     NaN   \n",
       "13                    NaN                 NaN  ...                     NaN   \n",
       "14  Cute & cartoon (卡通可爱）                 NaN  ...  Other languages （其他语种）   \n",
       "15                    NaN  War-related （战争相关）  ...                     NaN   \n",
       "16                    NaN  War-related （战争相关）  ...                     NaN   \n",
       "\n",
       "    Science （科学）  History （历史）  Literature （文学）  Music （音乐）  \\\n",
       "0            NaN           NaN              NaN         NaN   \n",
       "1   Science （科学）  History （历史）  Literature （文学）  Music （音乐）   \n",
       "2            NaN           NaN              NaN         NaN   \n",
       "3            NaN           NaN              NaN  Music （音乐）   \n",
       "4            NaN  History （历史）              NaN         NaN   \n",
       "5            NaN           NaN              NaN         NaN   \n",
       "6   Science （科学）  History （历史）  Literature （文学）  Music （音乐）   \n",
       "7            NaN           NaN              NaN         NaN   \n",
       "8   Science （科学）           NaN              NaN  Music （音乐）   \n",
       "9            NaN  History （历史）              NaN         NaN   \n",
       "10           NaN           NaN              NaN         NaN   \n",
       "11           NaN           NaN              NaN         NaN   \n",
       "12           NaN  History （历史）              NaN  Music （音乐）   \n",
       "13  Science （科学）           NaN              NaN         NaN   \n",
       "14  Science （科学）           NaN              NaN  Music （音乐）   \n",
       "15           NaN  History （历史）  Literature （文学）         NaN   \n",
       "16  Science （科学）  History （历史）              NaN         NaN   \n",
       "\n",
       "             non-educational theme （不喜欢教育主题）  \\\n",
       "0                                        NaN   \n",
       "1                                        NaN   \n",
       "2   I don't like educational theme （不喜欢教育主题）   \n",
       "3                                        NaN   \n",
       "4                                        NaN   \n",
       "5                                        NaN   \n",
       "6                                        NaN   \n",
       "7   I don't like educational theme （不喜欢教育主题）   \n",
       "8                                        NaN   \n",
       "9                                        NaN   \n",
       "10  I don't like educational theme （不喜欢教育主题）   \n",
       "11                                       NaN   \n",
       "12                                       NaN   \n",
       "13                                       NaN   \n",
       "14                                       NaN   \n",
       "15  I don't like educational theme （不喜欢教育主题）   \n",
       "16                                       NaN   \n",
       "\n",
       "   Of the tower defence games you have played, what improvements would you like to see? （你对塔防游戏有什么改进建议？）  \\\n",
       "0   Ability to speed up attacks if there is a leve...                                                      \n",
       "1               I have very little experience of them                                                      \n",
       "2                                  skin customization                                                      \n",
       "3                                        Never played                                                      \n",
       "4                                         More levels                                                      \n",
       "5                                more fair less grind                                                      \n",
       "6                     Naming squads or troops ability                                                      \n",
       "7                 Bigger freedom for enemy's movement                                                      \n",
       "8                               More skills and magic                                                      \n",
       "9                                                 '--                                                      \n",
       "10                     Don't like the payment. 付费因素较高                                                      \n",
       "11                                It's too tough. 太难了                                                      \n",
       "12                                                NaN                                                      \n",
       "13                                            None. 无                                                      \n",
       "14  I am slow to accept new things. Don't update t...                                                      \n",
       "15  I hope Plants vs Zombies can allow users to de...                                                      \n",
       "16  I hope the shortcut keys would be more user-fr...                                                      \n",
       "\n",
       "       Start Date (UTC)    Submit Date (UTC)  Network ID  \n",
       "0   2021-11-30 16:32:31  2021-11-30 16:35:34  8bbb94824d  \n",
       "1   2021-11-30 14:59:49  2021-11-30 15:02:53  32d25e2d15  \n",
       "2   2021-11-30 11:48:19  2021-11-30 11:49:15  b32197371e  \n",
       "3   2021-11-30 11:38:13  2021-11-30 11:39:49  f422d92906  \n",
       "4   2021-11-30 10:48:37  2021-11-30 11:00:30  3cdc12ad74  \n",
       "5   2021-11-30 09:41:44  2021-11-30 09:44:48  ddd723e33f  \n",
       "6   2021-11-30 08:49:05  2021-11-30 08:59:11  f71efd0233  \n",
       "7   2021-11-30 08:29:52  2021-11-30 08:34:20  51647115cd  \n",
       "8   2021-11-30 08:26:15  2021-11-30 08:30:57  cc4e270e77  \n",
       "9   2021-11-30 08:26:43  2021-11-30 08:28:33  89cd609e02  \n",
       "10                  NaN  2021-11-30 17:00:48         NaN  \n",
       "11                  NaN  2021-11-30 17:20:20         NaN  \n",
       "12                  NaN  2021-11-30 17:32:54         NaN  \n",
       "13                  NaN  2021-11-30 18:06:49         NaN  \n",
       "14                  NaN  2021-11-30 18:43:45         NaN  \n",
       "15                  NaN  2021-12-01 03:19:12         NaN  \n",
       "16                  NaN  2021-12-01 08:12:44         NaN  \n",
       "\n",
       "[17 rows x 26 columns]"
      ]
     },
     "execution_count": 6,
     "metadata": {},
     "output_type": "execute_result"
    }
   ],
   "source": [
    "# the below file is my dataset: \n",
    "# the file is a combined result, with both Typeform results and Chinese results. \n",
    "file = r'Combined_results.xlsx' # set the mode as 'only read', as we don't change the file\n",
    "df = pd.read_excel(file) # 'df' is our data set's name\n",
    "# df = pd.read_excel(file, encoding='gb18030') # I put an encoding since there was a Unicode Decode error. \n",
    "df.head(23)  # show the first 23 rows of the data set"
   ]
  },
  {
   "cell_type": "code",
   "execution_count": 84,
   "metadata": {},
   "outputs": [
    {
     "data": {
      "text/plain": [
       "(17, 26)"
      ]
     },
     "execution_count": 84,
     "metadata": {},
     "output_type": "execute_result"
    }
   ],
   "source": [
    "df.shape  # how many rows, how many columns. "
   ]
  },
  {
   "cell_type": "code",
   "execution_count": 85,
   "metadata": {},
   "outputs": [
    {
     "data": {
      "text/html": [
       "<div>\n",
       "<style scoped>\n",
       "    .dataframe tbody tr th:only-of-type {\n",
       "        vertical-align: middle;\n",
       "    }\n",
       "\n",
       "    .dataframe tbody tr th {\n",
       "        vertical-align: top;\n",
       "    }\n",
       "\n",
       "    .dataframe thead th {\n",
       "        text-align: right;\n",
       "    }\n",
       "</style>\n",
       "<table border=\"1\" class=\"dataframe\">\n",
       "  <thead>\n",
       "    <tr style=\"text-align: right;\">\n",
       "      <th></th>\n",
       "      <th>#</th>\n",
       "      <th>gender</th>\n",
       "      <th>from</th>\n",
       "      <th>job</th>\n",
       "      <th>Do you know about Tower Defense Games? （你知道塔防游戏吗？）</th>\n",
       "      <th>How often do you play Tower Defense Games? （多久玩一次塔防游戏？）</th>\n",
       "      <th>Of the tower defence games you like, what game(s) did you like? （塔防游戏中，你最喜欢哪个？）</th>\n",
       "      <th>How difficult would you like a tower defence game to be? （你喜欢哪种游戏难度？）</th>\n",
       "      <th>Cute &amp; cartoon (卡通可爱）</th>\n",
       "      <th>War-related （战争相关）</th>\n",
       "      <th>...</th>\n",
       "      <th>Other languages （其他语种）</th>\n",
       "      <th>Science （科学）</th>\n",
       "      <th>History （历史）</th>\n",
       "      <th>Literature （文学）</th>\n",
       "      <th>Music （音乐）</th>\n",
       "      <th>non-educational theme （不喜欢教育主题）</th>\n",
       "      <th>Of the tower defence games you have played, what improvements would you like to see? （你对塔防游戏有什么改进建议？）</th>\n",
       "      <th>Start Date (UTC)</th>\n",
       "      <th>Submit Date (UTC)</th>\n",
       "      <th>Network ID</th>\n",
       "    </tr>\n",
       "  </thead>\n",
       "  <tbody>\n",
       "    <tr>\n",
       "      <th>count</th>\n",
       "      <td>17</td>\n",
       "      <td>17</td>\n",
       "      <td>17</td>\n",
       "      <td>17</td>\n",
       "      <td>17</td>\n",
       "      <td>17</td>\n",
       "      <td>14</td>\n",
       "      <td>17</td>\n",
       "      <td>9</td>\n",
       "      <td>8</td>\n",
       "      <td>...</td>\n",
       "      <td>6</td>\n",
       "      <td>6</td>\n",
       "      <td>7</td>\n",
       "      <td>3</td>\n",
       "      <td>6</td>\n",
       "      <td>4</td>\n",
       "      <td>16</td>\n",
       "      <td>10</td>\n",
       "      <td>17</td>\n",
       "      <td>10</td>\n",
       "    </tr>\n",
       "    <tr>\n",
       "      <th>unique</th>\n",
       "      <td>17</td>\n",
       "      <td>2</td>\n",
       "      <td>3</td>\n",
       "      <td>8</td>\n",
       "      <td>3</td>\n",
       "      <td>4</td>\n",
       "      <td>14</td>\n",
       "      <td>3</td>\n",
       "      <td>1</td>\n",
       "      <td>1</td>\n",
       "      <td>...</td>\n",
       "      <td>1</td>\n",
       "      <td>1</td>\n",
       "      <td>1</td>\n",
       "      <td>1</td>\n",
       "      <td>1</td>\n",
       "      <td>1</td>\n",
       "      <td>16</td>\n",
       "      <td>10</td>\n",
       "      <td>17</td>\n",
       "      <td>10</td>\n",
       "    </tr>\n",
       "    <tr>\n",
       "      <th>top</th>\n",
       "      <td>Yilong</td>\n",
       "      <td>Male （男）</td>\n",
       "      <td>Asia （亚洲）</td>\n",
       "      <td>Student （学生）</td>\n",
       "      <td>Yes, it's just building towers and then defens...</td>\n",
       "      <td>Seldom （从不）</td>\n",
       "      <td>Haven't played it. 没玩过</td>\n",
       "      <td>Tough but fair （难，但有道理）</td>\n",
       "      <td>Cute &amp; cartoon (卡通可爱）</td>\n",
       "      <td>War-related （战争相关）</td>\n",
       "      <td>...</td>\n",
       "      <td>Other languages （其他语种）</td>\n",
       "      <td>Science （科学）</td>\n",
       "      <td>History （历史）</td>\n",
       "      <td>Literature （文学）</td>\n",
       "      <td>Music （音乐）</td>\n",
       "      <td>I don't like educational theme （不喜欢教育主题）</td>\n",
       "      <td>Don't like the payment. 付费因素较高</td>\n",
       "      <td>2021-11-30 08:26:43</td>\n",
       "      <td>2021-11-30 17:20:20</td>\n",
       "      <td>f422d92906</td>\n",
       "    </tr>\n",
       "    <tr>\n",
       "      <th>freq</th>\n",
       "      <td>1</td>\n",
       "      <td>9</td>\n",
       "      <td>11</td>\n",
       "      <td>4</td>\n",
       "      <td>9</td>\n",
       "      <td>11</td>\n",
       "      <td>1</td>\n",
       "      <td>15</td>\n",
       "      <td>9</td>\n",
       "      <td>8</td>\n",
       "      <td>...</td>\n",
       "      <td>6</td>\n",
       "      <td>6</td>\n",
       "      <td>7</td>\n",
       "      <td>3</td>\n",
       "      <td>6</td>\n",
       "      <td>4</td>\n",
       "      <td>1</td>\n",
       "      <td>1</td>\n",
       "      <td>1</td>\n",
       "      <td>1</td>\n",
       "    </tr>\n",
       "  </tbody>\n",
       "</table>\n",
       "<p>4 rows × 26 columns</p>\n",
       "</div>"
      ],
      "text/plain": [
       "             #    gender       from           job  \\\n",
       "count       17        17         17            17   \n",
       "unique      17         2          3             8   \n",
       "top     Yilong  Male （男）  Asia （亚洲）  Student （学生）   \n",
       "freq         1         9         11             4   \n",
       "\n",
       "       Do you know about Tower Defense Games? （你知道塔防游戏吗？）  \\\n",
       "count                                                  17   \n",
       "unique                                                  3   \n",
       "top     Yes, it's just building towers and then defens...   \n",
       "freq                                                    9   \n",
       "\n",
       "       How often do you play Tower Defense Games? （多久玩一次塔防游戏？）  \\\n",
       "count                                                  17        \n",
       "unique                                                  4        \n",
       "top                                           Seldom （从不）        \n",
       "freq                                                   11        \n",
       "\n",
       "       Of the tower defence games you like, what game(s) did you like? （塔防游戏中，你最喜欢哪个？）  \\\n",
       "count                                                  14                                \n",
       "unique                                                 14                                \n",
       "top                                Haven't played it. 没玩过                                \n",
       "freq                                                    1                                \n",
       "\n",
       "       How difficult would you like a tower defence game to be? （你喜欢哪种游戏难度？）  \\\n",
       "count                                                  17                      \n",
       "unique                                                  3                      \n",
       "top                               Tough but fair （难，但有道理）                      \n",
       "freq                                                   15                      \n",
       "\n",
       "        Cute & cartoon (卡通可爱）  War-related （战争相关）  ...  \\\n",
       "count                       9                   8  ...   \n",
       "unique                      1                   1  ...   \n",
       "top     Cute & cartoon (卡通可爱）  War-related （战争相关）  ...   \n",
       "freq                        9                   8  ...   \n",
       "\n",
       "        Other languages （其他语种）  Science （科学）  History （历史）  Literature （文学）  \\\n",
       "count                        6             6             7                3   \n",
       "unique                       1             1             1                1   \n",
       "top     Other languages （其他语种）  Science （科学）  History （历史）  Literature （文学）   \n",
       "freq                         6             6             7                3   \n",
       "\n",
       "        Music （音乐）           non-educational theme （不喜欢教育主题）  \\\n",
       "count            6                                         4   \n",
       "unique           1                                         1   \n",
       "top     Music （音乐）  I don't like educational theme （不喜欢教育主题）   \n",
       "freq             6                                         4   \n",
       "\n",
       "       Of the tower defence games you have played, what improvements would you like to see? （你对塔防游戏有什么改进建议？）  \\\n",
       "count                                                  16                                                      \n",
       "unique                                                 16                                                      \n",
       "top                        Don't like the payment. 付费因素较高                                                      \n",
       "freq                                                    1                                                      \n",
       "\n",
       "           Start Date (UTC)    Submit Date (UTC)  Network ID  \n",
       "count                    10                   17          10  \n",
       "unique                   10                   17          10  \n",
       "top     2021-11-30 08:26:43  2021-11-30 17:20:20  f422d92906  \n",
       "freq                      1                    1           1  \n",
       "\n",
       "[4 rows x 26 columns]"
      ]
     },
     "execution_count": 85,
     "metadata": {},
     "output_type": "execute_result"
    }
   ],
   "source": [
    "# Now we get to know the basic statistics for each column, using 'describe()' function: \n",
    "df.describe()"
   ]
  },
  {
   "cell_type": "markdown",
   "metadata": {},
   "source": [
    "### Data set descriptions: \n",
    "- <b>Sample size: 17. Chinese samples: 7; world-wide samples: 10. </b>\n",
    "- Since there are question amount restrictions in the Typeform website, we have to limit our questions and delete others. There are 10 questions in Typeform questionnaire in total, and this form is prepared for the world-wide group. Also, there is a sample size limit for the Typeform, so we only have 10 samples. \n",
    "- Since Xiaoyun Yu is just based in mainland China, she can collect opinions from the people surrounding her. She believes that in this way we can obtain more opoinions, so she has made another questionnaire form using Tencent form collection method. There is no restrictions for question amount or sample size, so for the questionnaire's China version, we have asked almost all of our concentrated questions there.\n",
    "- Finally, we have collected all the results into one data file - 'Combined_results.xlsx', where we only list the common 10 questions for both versions. "
   ]
  },
  {
   "cell_type": "code",
   "execution_count": 86,
   "metadata": {},
   "outputs": [
    {
     "data": {
      "image/png": "[encoded data removed]",
      "text/plain": [
       "<Figure size 432x288 with 1 Axes>"
      ]
     },
     "metadata": {},
     "output_type": "display_data"
    }
   ],
   "source": [
    "table = pd.crosstab(df['from'], \n",
    "                    df['gender'], margins=True)\n",
    "# table.drop('All', axis='rows', inplace=True)\n",
    "table = table.sort_values(by='All', ascending=False)\n",
    "# table.drop('All', inplace=True)\n",
    "\n",
    "ax = table.plot.barh()\n",
    "ax.invert_yaxis()\n",
    "ax.set_title('Where are you from? ')\n",
    "plt.show()"
   ]
  },
  {
   "cell_type": "markdown",
   "metadata": {},
   "source": [
    "### Insights: \n",
    "- There are 8 female guests, and 9 male guests in total. They are almost equal, which is quite good for us to analyze gender requests. \n",
    "- <b>Most of our guests are from Asia (11 people).</b> 7 are from mainland China that's certain, and the other 4 may come from other areas. \n",
    "- We have 5 Europe guests, and 1 Africa guest. These samples may help us to understand the Europe market, which perhaps is different from Asians' thoughts. \n",
    "- Now we have questions: Do Asians have the same preference or different preferences from the European or African people? Can we combine these preferences? \n",
    "- We need to decide our market range based on the location question - Do we need to proporgate our product only to Europe-America market? Or do we want only the Asia market? Or do we have bigger ambition to march to world-wide market (Can we combine all the interests)? What's our focus? "
   ]
  },
  {
   "cell_type": "code",
   "execution_count": 56,
   "metadata": {},
   "outputs": [
    {
     "data": {
      "image/png": "[encoded data removed]",
      "text/plain": [
       "<Figure size 432x288 with 1 Axes>"
      ]
     },
     "metadata": {},
     "output_type": "display_data"
    }
   ],
   "source": [
    "table = pd.crosstab(df['How often do you play Tower Defense Games? （多久玩一次塔防游戏？）'], \n",
    "                    df['gender'], margins=True)\n",
    "# table.drop('All', axis='rows', inplace=True)\n",
    "table = table.sort_values(by='All', ascending=False)\n",
    "table.drop('All', inplace=True)\n",
    "\n",
    "ax = table.plot.barh()\n",
    "ax.invert_yaxis()\n",
    "ax.set_title('How often do you play Tower Defense Games?')\n",
    "ax.set_ylabel(' ')\n",
    "plt.show()"
   ]
  },
  {
   "cell_type": "code",
   "execution_count": 55,
   "metadata": {},
   "outputs": [
    {
     "data": {
      "image/png": "[encoded data removed]",
      "text/plain": [
       "<Figure size 432x288 with 2 Axes>"
      ]
     },
     "metadata": {},
     "output_type": "display_data"
    }
   ],
   "source": [
    "# Heat map: \n",
    "table = pd.crosstab(df['How often do you play Tower Defense Games? （多久玩一次塔防游戏？）'], \n",
    "                    df['gender'], margins=True)\n",
    "# table.drop('All', axis='rows', inplace=True)\n",
    "table = table.sort_values(by='Female （女）', ascending=False)\n",
    "table.drop('All', axis='columns', inplace=True)\n",
    "table.drop('All', inplace=True)\n",
    "\n",
    "ax = sns.heatmap(table, annot=True)\n",
    "ax.set_title('Heatmap: How often do you play Tower Defense Games?')\n",
    "ax.set_ylabel(' ')\n",
    "plt.show()"
   ]
  },
  {
   "cell_type": "markdown",
   "metadata": {},
   "source": [
    "### Insights: \n",
    "- <b>Most of the people in our sample, don't play TD games at all or just play them quite few times. </b>\n",
    "- The ones who play TD games more oftern, are females. "
   ]
  },
  {
   "cell_type": "code",
   "execution_count": 53,
   "metadata": {},
   "outputs": [
    {
     "data": {
      "image/png": "[encoded data removed]",
      "text/plain": [
       "<Figure size 432x288 with 1 Axes>"
      ]
     },
     "metadata": {},
     "output_type": "display_data"
    }
   ],
   "source": [
    "table = pd.crosstab(df['job'], \n",
    "                    df['gender'], margins=True)\n",
    "# table.drop('All', axis='rows', inplace=True)\n",
    "table = table.sort_values(by='All', ascending=False)\n",
    "table.drop('All', inplace=True)\n",
    "\n",
    "ax = table.plot.barh()\n",
    "ax.invert_yaxis()\n",
    "ax.set_title('Jobs by genders')\n",
    "plt.show()"
   ]
  },
  {
   "cell_type": "code",
   "execution_count": 51,
   "metadata": {},
   "outputs": [
    {
     "data": {
      "image/png": "[encoded data removed]",
      "text/plain": [
       "<Figure size 432x288 with 2 Axes>"
      ]
     },
     "metadata": {},
     "output_type": "display_data"
    }
   ],
   "source": [
    "# Heat map: \n",
    "table = pd.crosstab(df['job'], \n",
    "                    df['gender'], margins=True)\n",
    "# table.drop('All', axis='rows', inplace=True)\n",
    "table = table.sort_values(by='Female （女）', ascending=False)\n",
    "# table.drop('All', axis='columns', inplace=True)\n",
    "table.drop('All', inplace=True)\n",
    "\n",
    "ax = sns.heatmap(table, annot=True)\n",
    "ax.set_title('Heatmap of jobs by genders')\n",
    "plt.show()"
   ]
  },
  {
   "cell_type": "markdown",
   "metadata": {},
   "source": [
    "### Insights: \n",
    "- We settle this job question, in order to: (1) figure out whether our data sample has <b>any bias with regard to occupations</b>. For example, do most of the answers come from programmers? If so, then there would be bias about their theme preference, topic preference, play duration and frequency, and so on. We need to emphasize our goal - we wish our product can be used by common people, and, we wish from our questionnaire, we can hear diversified voices so that later on we can settle down our target user groups. \n",
    "- (2) If there are experienced programmers, then no problem, we have this honour to hear from them about <b>any advice</b> on our product, as we are all inexperienced to make TD game. \n",
    "- There are many students. And of course, our main target group would be college students who are free for time and most possible to play video games. \n",
    "- There are 3 experienced programmers, and 3 IT-related people, and 2 people working in educational positions. We need to be careful about any bias this may bring for us, and we indeed look forwared to their suggestions. "
   ]
  },
  {
   "cell_type": "code",
   "execution_count": 52,
   "metadata": {},
   "outputs": [
    {
     "data": {
      "image/png": "[encoded data removed]",
      "text/plain": [
       "<Figure size 432x288 with 1 Axes>"
      ]
     },
     "metadata": {},
     "output_type": "display_data"
    }
   ],
   "source": [
    "table = pd.crosstab(df['Do you know about Tower Defense Games? （你知道塔防游戏吗？）'], \n",
    "                    df['gender'], margins=True)\n",
    "# table.drop('All', axis='rows', inplace=True)\n",
    "table = table.sort_values(by='All', ascending=False)\n",
    "table.drop('All', inplace=True)\n",
    "\n",
    "ax = table.plot.barh()\n",
    "ax.invert_yaxis()\n",
    "ax.set_title('Do you know about Tower Defense Games? ')\n",
    "ax.set_ylabel(' ')\n",
    "plt.show()"
   ]
  },
  {
   "cell_type": "markdown",
   "metadata": {},
   "source": [
    "### Insights: \n",
    "- Interestingly, although many people seldom play TD games, still most of the people claim that they know what TD games are. Perhaps it's because the misleading of our choices, and people always don't want to admit that they have unknown knowledge about some simple concepts. \n",
    "- There are 4 people state that they don't know about TD games at all. It means, for common people, there is <b>big possibility that our TD game would be their first TD game</b>. So we should make more tutorials, and, make more attrctive elements. "
   ]
  },
  {
   "cell_type": "code",
   "execution_count": 66,
   "metadata": {},
   "outputs": [
    {
     "data": {
      "image/png": "[encoded data removed]",
      "text/plain": [
       "<Figure size 432x288 with 1 Axes>"
      ]
     },
     "metadata": {},
     "output_type": "display_data"
    }
   ],
   "source": [
    "table = pd.crosstab(df['How difficult would you like a tower defence game to be? （你喜欢哪种游戏难度？）'], \n",
    "                    df['gender'], margins=True)\n",
    "# table.drop('All', axis='rows', inplace=True)\n",
    "table = table.sort_values(by='All', ascending=False)\n",
    "table.drop('All', inplace=True)\n",
    "\n",
    "ax = table.plot.barh()\n",
    "ax.invert_yaxis()\n",
    "ax.set_title('How difficult would you like a tower defence game to be? ')\n",
    "ax.set_ylabel(' ')\n",
    "plt.show()"
   ]
  },
  {
   "cell_type": "markdown",
   "metadata": {},
   "source": [
    "### Insights: \n",
    "- Most of the people hope to play games which are <b>a little bit difficult but with some sense</b>. \n",
    "- One female hopes to play a game that never fails. That means, she hopes to relax as much as she could. \n",
    "- One male hopes to challenge his max ability. "
   ]
  },
  {
   "cell_type": "code",
   "execution_count": 59,
   "metadata": {},
   "outputs": [
    {
     "data": {
      "text/plain": [
       "9"
      ]
     },
     "execution_count": 59,
     "metadata": {},
     "output_type": "execute_result"
    }
   ],
   "source": [
    "cute = df['Cute & cartoon (卡通可爱）'].count()\n",
    "cute"
   ]
  },
  {
   "cell_type": "code",
   "execution_count": 60,
   "metadata": {},
   "outputs": [
    {
     "data": {
      "text/plain": [
       "8"
      ]
     },
     "execution_count": 60,
     "metadata": {},
     "output_type": "execute_result"
    }
   ],
   "source": [
    "war = df['War-related （战争相关）'].count()\n",
    "war"
   ]
  },
  {
   "cell_type": "code",
   "execution_count": 61,
   "metadata": {},
   "outputs": [
    {
     "data": {
      "text/plain": [
       "1"
      ]
     },
     "execution_count": 61,
     "metadata": {},
     "output_type": "execute_result"
    }
   ],
   "source": [
    "zombie = df['Zombie （僵尸）'].count()\n",
    "zombie"
   ]
  },
  {
   "cell_type": "code",
   "execution_count": 62,
   "metadata": {},
   "outputs": [
    {
     "data": {
      "text/plain": [
       "4"
      ]
     },
     "execution_count": 62,
     "metadata": {},
     "output_type": "execute_result"
    }
   ],
   "source": [
    "educational = df['Educational （教育）'].count()\n",
    "educational"
   ]
  },
  {
   "cell_type": "code",
   "execution_count": 63,
   "metadata": {},
   "outputs": [
    {
     "data": {
      "text/plain": [
       "4"
      ]
     },
     "execution_count": 63,
     "metadata": {},
     "output_type": "execute_result"
    }
   ],
   "source": [
    "abstract = df['Abstract （抽象）'].count()\n",
    "abstract"
   ]
  },
  {
   "cell_type": "code",
   "execution_count": 65,
   "metadata": {},
   "outputs": [
    {
     "data": {
      "text/plain": [
       "1"
      ]
     },
     "execution_count": 65,
     "metadata": {},
     "output_type": "execute_result"
    }
   ],
   "source": [
    "others = df['Others （其他）'].count()\n",
    "others"
   ]
  },
  {
   "cell_type": "code",
   "execution_count": 67,
   "metadata": {},
   "outputs": [
    {
     "data": {
      "text/plain": [
       "{'cute': 9,\n",
       " 'war': 8,\n",
       " 'zombie': 1,\n",
       " 'educational': 4,\n",
       " 'abstract': 4,\n",
       " 'others': 1}"
      ]
     },
     "execution_count": 67,
     "metadata": {},
     "output_type": "execute_result"
    }
   ],
   "source": [
    "theme_dictionary = {'cute': cute, 'war': war, 'zombie': zombie, 'educational': educational, \n",
    "                   'abstract': abstract, 'others': others}\n",
    "theme_dictionary"
   ]
  },
  {
   "cell_type": "code",
   "execution_count": 93,
   "metadata": {},
   "outputs": [
    {
     "data": {
      "text/plain": [
       "<BarContainer object of 6 artists>"
      ]
     },
     "execution_count": 93,
     "metadata": {},
     "output_type": "execute_result"
    },
    {
     "data": {
      "image/png": "[encoded data removed]",
      "text/plain": [
       "<Figure size 432x288 with 1 Axes>"
      ]
     },
     "metadata": {},
     "output_type": "display_data"
    }
   ],
   "source": [
    "# bar plot for themes\n",
    "plt.bar(theme_dictionary.keys(), theme_dictionary.values(), 0.8)"
   ]
  },
  {
   "cell_type": "markdown",
   "metadata": {},
   "source": [
    "### Insights: \n",
    "- <b>'Cute & cartoon' receives the highest</b> vote rate. Some people who choose 'war-related' also have chosen 'cute & cartoon'. It means, no matter the theme is, we should make our game cartoon-like, instead of making it similar to real people or device. \n",
    "- We have doubted whether 'cute & cartoon' is only preferred by Asians. But in fact, if we look into the answer chart, we can see that many European people and even males choose 'cute & cartoon'. It means, this choice is people's choice. \n",
    "- The choice with silver gold is <b>'war-related'</b>. Both Asians and people from other places choose this choice. It means, we should make our game engaged with war-related elements - rivalry, weapons, fire, battlefield, etc. We should discover the attractive elements of the battlefield, then cartoonize them. \n",
    "- For 'educational' the theme we care the most, we find that there are indeed 4 people support it. Of course our guest who works in education area has chosen this choice, and there are still other people would like to see educational elements. "
   ]
  },
  {
   "cell_type": "code",
   "execution_count": 74,
   "metadata": {},
   "outputs": [
    {
     "data": {
      "text/plain": [
       "9"
      ]
     },
     "execution_count": 74,
     "metadata": {},
     "output_type": "execute_result"
    }
   ],
   "source": [
    "maths = df['Maths （数学）'].count()\n",
    "maths"
   ]
  },
  {
   "cell_type": "code",
   "execution_count": 75,
   "metadata": {},
   "outputs": [
    {
     "data": {
      "text/plain": [
       "3"
      ]
     },
     "execution_count": 75,
     "metadata": {},
     "output_type": "execute_result"
    }
   ],
   "source": [
    "english = df['English （英语）'].count()\n",
    "english"
   ]
  },
  {
   "cell_type": "code",
   "execution_count": 77,
   "metadata": {},
   "outputs": [
    {
     "data": {
      "text/plain": [
       "6"
      ]
     },
     "execution_count": 77,
     "metadata": {},
     "output_type": "execute_result"
    }
   ],
   "source": [
    "other_languages = df['Other languages （其他语种）'].count()\n",
    "other_languages"
   ]
  },
  {
   "cell_type": "code",
   "execution_count": 78,
   "metadata": {},
   "outputs": [
    {
     "data": {
      "text/plain": [
       "6"
      ]
     },
     "execution_count": 78,
     "metadata": {},
     "output_type": "execute_result"
    }
   ],
   "source": [
    "science = df['Science （科学）'].count()\n",
    "science"
   ]
  },
  {
   "cell_type": "code",
   "execution_count": 79,
   "metadata": {},
   "outputs": [
    {
     "data": {
      "text/plain": [
       "7"
      ]
     },
     "execution_count": 79,
     "metadata": {},
     "output_type": "execute_result"
    }
   ],
   "source": [
    "history = df['History （历史）'].count()\n",
    "history"
   ]
  },
  {
   "cell_type": "code",
   "execution_count": 81,
   "metadata": {},
   "outputs": [
    {
     "data": {
      "text/plain": [
       "3"
      ]
     },
     "execution_count": 81,
     "metadata": {},
     "output_type": "execute_result"
    }
   ],
   "source": [
    "literature = df['Literature （文学）'].count()\n",
    "literature"
   ]
  },
  {
   "cell_type": "code",
   "execution_count": 88,
   "metadata": {},
   "outputs": [
    {
     "data": {
      "text/plain": [
       "6"
      ]
     },
     "execution_count": 88,
     "metadata": {},
     "output_type": "execute_result"
    }
   ],
   "source": [
    "music = df['Music （音乐）'].count()\n",
    "music"
   ]
  },
  {
   "cell_type": "code",
   "execution_count": 87,
   "metadata": {},
   "outputs": [
    {
     "data": {
      "text/plain": [
       "4"
      ]
     },
     "execution_count": 87,
     "metadata": {},
     "output_type": "execute_result"
    }
   ],
   "source": [
    "non_edu = df['non-educational theme （不喜欢教育主题）'].count()\n",
    "non_edu"
   ]
  },
  {
   "cell_type": "code",
   "execution_count": 89,
   "metadata": {},
   "outputs": [
    {
     "data": {
      "text/plain": [
       "{'maths': 9,\n",
       " 'english': 3,\n",
       " 'other_languages': 6,\n",
       " 'science': 6,\n",
       " 'history': 7,\n",
       " 'literature': 3,\n",
       " 'music': 6,\n",
       " 'non_edu': 4}"
      ]
     },
     "execution_count": 89,
     "metadata": {},
     "output_type": "execute_result"
    }
   ],
   "source": [
    "subject_dictionary = {'maths': maths, 'english': english, 'other_languages': other_languages, \n",
    "                     'science': science, 'history': history, 'literature': literature, \n",
    "                     'music': music, 'non_edu': non_edu}\n",
    "subject_dictionary"
   ]
  },
  {
   "cell_type": "code",
   "execution_count": 91,
   "metadata": {},
   "outputs": [
    {
     "data": {
      "image/png": "[encoded data removed]",
      "text/plain": [
       "<Figure size 432x288 with 1 Axes>"
      ]
     },
     "metadata": {},
     "output_type": "display_data"
    }
   ],
   "source": [
    "plt.bar(subject_dictionary.keys(), subject_dictionary.values(), 0.8)\n",
    "plt.xticks(rotation=90)\n",
    "plt.show()"
   ]
  },
  {
   "cell_type": "markdown",
   "metadata": {},
   "source": [
    "### Insights: \n",
    "- There are 17 people in our sample, and there are 4 people have chosen 'I don't like educational theme'. According to this result, we should be <b>very careful about how to implement any educational elements</b>. Are they boring? Are they serious? Are they tough? These could all lead to the loss of market. \n",
    "- In our result, <b>'maths' wins</b>. Perhaps some of the reason is that there are IT-related people and many programmers. Anyway, we should be confident if we hope to make a maths-related game. \n",
    "- Since I've taken samples in mainland China, people seem to be lack of interests in learning English. \n",
    "- People would like to learn history. We can consider whether we will make a game with a background taken from real history. \n",
    "- People like science topic. \n",
    "- There are indeed many more subjects and topics not included here. "
   ]
  },
  {
   "cell_type": "markdown",
   "metadata": {},
   "source": [
    "## Now let's check the additional questions asked in Chinese version questionnaire: "
   ]
  },
  {
   "cell_type": "code",
   "execution_count": 7,
   "metadata": {},
   "outputs": [
    {
     "data": {
      "text/html": [
       "<div>\n",
       "<style scoped>\n",
       "    .dataframe tbody tr th:only-of-type {\n",
       "        vertical-align: middle;\n",
       "    }\n",
       "\n",
       "    .dataframe tbody tr th {\n",
       "        vertical-align: top;\n",
       "    }\n",
       "\n",
       "    .dataframe thead th {\n",
       "        text-align: right;\n",
       "    }\n",
       "</style>\n",
       "<table border=\"1\" class=\"dataframe\">\n",
       "  <thead>\n",
       "    <tr style=\"text-align: right;\">\n",
       "      <th></th>\n",
       "      <th>People 提交者（自动）</th>\n",
       "      <th>Submission Time 提交时间（自动）</th>\n",
       "      <th>Gender 你的性别？（必填）</th>\n",
       "      <th>Where are you from? 你来自世界上的哪里？（必填）</th>\n",
       "      <th>Job 你的工作？选一个最贴切的（必填）</th>\n",
       "      <th>Do you know TD games? 你知道塔防游戏吗？（必填）</th>\n",
       "      <th>How often do you play TD games? 你多久玩一次塔防游戏？（必填）</th>\n",
       "      <th>Of the tower defence games you like, what game(s) did you like?  塔防游戏中，你最喜欢哪个？</th>\n",
       "      <th>How difficult would you like a tower defence game to be? 你喜欢哪种游戏难度？（必填）</th>\n",
       "      <th>What theme of tower defense game do you prefer? 你喜欢哪种类型/主题的塔防游戏？（必填）</th>\n",
       "      <th>If you would play a tower defence game with educational elements, what subjects would you like to see taught in it?  如果塔防游戏中加入教育元素，你最希望是哪个（些）学科？（必填）</th>\n",
       "      <th>Of the tower defence games you have played, what improvements would you like to see? （你对塔防游戏有什么改进建议？）</th>\n",
       "      <th>What would you like to see in a tower defence game that you haven't seen  before? eg. mechanic, style. 你想在塔防游戏中见什么没见过的元素？比如什么置物、类型、设计？</th>\n",
       "      <th>Age 你的年龄？我们会保密哒（必填）</th>\n",
       "      <th>How long do you play TD games in one sitting? 你每次玩塔防游戏一般玩多久？（必填）</th>\n",
       "    </tr>\n",
       "  </thead>\n",
       "  <tbody>\n",
       "    <tr>\n",
       "      <th>0</th>\n",
       "      <td>刘伊琳</td>\n",
       "      <td>2021-11-30 17:00:48</td>\n",
       "      <td>Female （女）</td>\n",
       "      <td>Asia （亚洲）</td>\n",
       "      <td>Bank （银行)</td>\n",
       "      <td>Somewhat, I've played Plants vs. Zombies, but ...</td>\n",
       "      <td>Once a month （一个月一次）</td>\n",
       "      <td>NaN</td>\n",
       "      <td>Tough but fair （难，但有道理）</td>\n",
       "      <td>Cute &amp; cartoon (卡通可爱）</td>\n",
       "      <td>I don't like educational theme （不喜欢教育主题）</td>\n",
       "      <td>Don't like the payment. 付费因素较高</td>\n",
       "      <td>NaN</td>\n",
       "      <td>19 ~ 28</td>\n",
       "      <td>30 min - 1 hr. 30分钟到一小时</td>\n",
       "    </tr>\n",
       "    <tr>\n",
       "      <th>1</th>\n",
       "      <td>送快递的狐狸喵</td>\n",
       "      <td>2021-11-30 17:20:20</td>\n",
       "      <td>Male （男）</td>\n",
       "      <td>Asia （亚洲）</td>\n",
       "      <td>IT related （信息技术）</td>\n",
       "      <td>Yes, it's just building towers and then defens...</td>\n",
       "      <td>Seldom （从不）</td>\n",
       "      <td>In Wechat small program, there is a sth. Calle...</td>\n",
       "      <td>Tough but fair （难，但有道理）</td>\n",
       "      <td>Cute &amp; cartoon (卡通可爱）</td>\n",
       "      <td>Other languages （其他语种）</td>\n",
       "      <td>It's too tough. 太难了</td>\n",
       "      <td>Plants, animals, foods. 植物，动物，吃的</td>\n",
       "      <td>19 ~ 28</td>\n",
       "      <td>&lt; 5 min. 少于5分钟</td>\n",
       "    </tr>\n",
       "    <tr>\n",
       "      <th>2</th>\n",
       "      <td>利剑</td>\n",
       "      <td>2021-11-30 17:32:54</td>\n",
       "      <td>Male （男）</td>\n",
       "      <td>Asia （亚洲）</td>\n",
       "      <td>Bank （银行)</td>\n",
       "      <td>No, I've never played it before. （不知道，没玩过）</td>\n",
       "      <td>Seldom （从不）</td>\n",
       "      <td>Don't know. 不知道</td>\n",
       "      <td>Tough but fair （难，但有道理）</td>\n",
       "      <td>War-related （战争相关）</td>\n",
       "      <td>Maths （数学）, History （历史）, Music （音乐）</td>\n",
       "      <td>NaN</td>\n",
       "      <td>None. 无</td>\n",
       "      <td>43 ~ 60</td>\n",
       "      <td>&lt; 5 min. 少于5分钟</td>\n",
       "    </tr>\n",
       "    <tr>\n",
       "      <th>3</th>\n",
       "      <td>TuringSnowy</td>\n",
       "      <td>2021-11-30 18:06:49</td>\n",
       "      <td>Male （男）</td>\n",
       "      <td>Asia （亚洲）</td>\n",
       "      <td>Education （教育）</td>\n",
       "      <td>No, I've never played it before. （不知道，没玩过）</td>\n",
       "      <td>Seldom （从不）</td>\n",
       "      <td>Haven't played it. 没玩过</td>\n",
       "      <td>Tough but fair （难，但有道理）</td>\n",
       "      <td>Educational （教育）</td>\n",
       "      <td>Maths （数学）, Science （科学）</td>\n",
       "      <td>None. 无</td>\n",
       "      <td>I hope to see the 'Pass' sign at each level. I...</td>\n",
       "      <td>43 ~ 60</td>\n",
       "      <td>&lt; 5 min. 少于5分钟</td>\n",
       "    </tr>\n",
       "    <tr>\n",
       "      <th>4</th>\n",
       "      <td>七柱🏛篝火🌌</td>\n",
       "      <td>2021-11-30 18:43:45</td>\n",
       "      <td>Female （女）</td>\n",
       "      <td>Asia （亚洲）</td>\n",
       "      <td>Student （学生）</td>\n",
       "      <td>Yes, it's just building towers and then defens...</td>\n",
       "      <td>一周一次</td>\n",
       "      <td>Defending Radish. 保卫萝卜</td>\n",
       "      <td>Tough but fair （难，但有道理）</td>\n",
       "      <td>Cute &amp; cartoon (卡通可爱）</td>\n",
       "      <td>Maths （数学）, Other languages （其他语种）, Science （科...</td>\n",
       "      <td>I am slow to accept new things. Don't update t...</td>\n",
       "      <td>Still eyesight to prevent from feeling dizzy. ...</td>\n",
       "      <td>19 ~ 28</td>\n",
       "      <td>5 - 10 min. 5到10分钟</td>\n",
       "    </tr>\n",
       "    <tr>\n",
       "      <th>5</th>\n",
       "      <td>Kaikai</td>\n",
       "      <td>2021-12-01 03:19:12</td>\n",
       "      <td>Female （女）</td>\n",
       "      <td>Asia （亚洲）</td>\n",
       "      <td>Arts &amp; music （艺术&amp;音乐）</td>\n",
       "      <td>Somewhat, I've played Plants vs. Zombies, but ...</td>\n",
       "      <td>Once a month （一个月一次）</td>\n",
       "      <td>Tank battles. 几百年前小霸王游戏机里的坦克大战</td>\n",
       "      <td>永远都不失败</td>\n",
       "      <td>War-related （战争相关）</td>\n",
       "      <td>History （历史）, Literature （文学）, I don't like ed...</td>\n",
       "      <td>I hope Plants vs Zombies can allow users to de...</td>\n",
       "      <td>I hope to see my opponent not wearing clothes ...</td>\n",
       "      <td>29 ~ 35</td>\n",
       "      <td>30 min - 1 hr. 30分钟到一小时</td>\n",
       "    </tr>\n",
       "    <tr>\n",
       "      <th>6</th>\n",
       "      <td>Yilong</td>\n",
       "      <td>2021-12-01 08:12:44</td>\n",
       "      <td>Male （男）</td>\n",
       "      <td>Asia （亚洲）</td>\n",
       "      <td>Free （自由职业）</td>\n",
       "      <td>Somewhat, I've played Plants vs. Zombies, but ...</td>\n",
       "      <td>Once a month （一个月一次）</td>\n",
       "      <td>Montizuma's Anger. 蒙提祖玛之怒</td>\n",
       "      <td>Tough but fair （难，但有道理）</td>\n",
       "      <td>War-related （战争相关）</td>\n",
       "      <td>Maths （数学）, English （英语）, Science （科学）, Histor...</td>\n",
       "      <td>I hope the shortcut keys would be more user-fr...</td>\n",
       "      <td>Design. 设计</td>\n",
       "      <td>36 ~ 42</td>\n",
       "      <td>10 - 30 min. 10到30分钟</td>\n",
       "    </tr>\n",
       "  </tbody>\n",
       "</table>\n",
       "</div>"
      ],
      "text/plain": [
       "  People 提交者（自动） Submission Time 提交时间（自动） Gender 你的性别？（必填）  \\\n",
       "0            刘伊琳      2021-11-30 17:00:48       Female （女）   \n",
       "1        送快递的狐狸喵      2021-11-30 17:20:20         Male （男）   \n",
       "2             利剑      2021-11-30 17:32:54         Male （男）   \n",
       "3    TuringSnowy      2021-11-30 18:06:49         Male （男）   \n",
       "4         七柱🏛篝火🌌      2021-11-30 18:43:45       Female （女）   \n",
       "5         Kaikai      2021-12-01 03:19:12       Female （女）   \n",
       "6         Yilong      2021-12-01 08:12:44         Male （男）   \n",
       "\n",
       "  Where are you from? 你来自世界上的哪里？（必填）  Job 你的工作？选一个最贴切的（必填）  \\\n",
       "0                          Asia （亚洲）             Bank （银行)   \n",
       "1                          Asia （亚洲）     IT related （信息技术）   \n",
       "2                          Asia （亚洲）             Bank （银行)   \n",
       "3                          Asia （亚洲）        Education （教育）   \n",
       "4                          Asia （亚洲）          Student （学生）   \n",
       "5                          Asia （亚洲）  Arts & music （艺术&音乐）   \n",
       "6                          Asia （亚洲）           Free （自由职业）   \n",
       "\n",
       "                 Do you know TD games? 你知道塔防游戏吗？（必填）  \\\n",
       "0  Somewhat, I've played Plants vs. Zombies, but ...   \n",
       "1  Yes, it's just building towers and then defens...   \n",
       "2         No, I've never played it before. （不知道，没玩过）   \n",
       "3         No, I've never played it before. （不知道，没玩过）   \n",
       "4  Yes, it's just building towers and then defens...   \n",
       "5  Somewhat, I've played Plants vs. Zombies, but ...   \n",
       "6  Somewhat, I've played Plants vs. Zombies, but ...   \n",
       "\n",
       "  How often do you play TD games? 你多久玩一次塔防游戏？（必填）  \\\n",
       "0                            Once a month （一个月一次）   \n",
       "1                                     Seldom （从不）   \n",
       "2                                     Seldom （从不）   \n",
       "3                                     Seldom （从不）   \n",
       "4                                            一周一次   \n",
       "5                            Once a month （一个月一次）   \n",
       "6                            Once a month （一个月一次）   \n",
       "\n",
       "  Of the tower defence games you like, what game(s) did you like?  塔防游戏中，你最喜欢哪个？  \\\n",
       "0                                                NaN                               \n",
       "1  In Wechat small program, there is a sth. Calle...                               \n",
       "2                                    Don't know. 不知道                               \n",
       "3                             Haven't played it. 没玩过                               \n",
       "4                             Defending Radish. 保卫萝卜                               \n",
       "5                     Tank battles. 几百年前小霸王游戏机里的坦克大战                               \n",
       "6                          Montizuma's Anger. 蒙提祖玛之怒                               \n",
       "\n",
       "  How difficult would you like a tower defence game to be? 你喜欢哪种游戏难度？（必填）  \\\n",
       "0                            Tough but fair （难，但有道理）                        \n",
       "1                            Tough but fair （难，但有道理）                        \n",
       "2                            Tough but fair （难，但有道理）                        \n",
       "3                            Tough but fair （难，但有道理）                        \n",
       "4                            Tough but fair （难，但有道理）                        \n",
       "5                                             永远都不失败                        \n",
       "6                            Tough but fair （难，但有道理）                        \n",
       "\n",
       "  What theme of tower defense game do you prefer? 你喜欢哪种类型/主题的塔防游戏？（必填）  \\\n",
       "0                              Cute & cartoon (卡通可爱）                     \n",
       "1                              Cute & cartoon (卡通可爱）                     \n",
       "2                                 War-related （战争相关）                     \n",
       "3                                   Educational （教育）                     \n",
       "4                              Cute & cartoon (卡通可爱）                     \n",
       "5                                 War-related （战争相关）                     \n",
       "6                                 War-related （战争相关）                     \n",
       "\n",
       "  If you would play a tower defence game with educational elements, what subjects would you like to see taught in it?  如果塔防游戏中加入教育元素，你最希望是哪个（些）学科？（必填）  \\\n",
       "0           I don't like educational theme （不喜欢教育主题）                                                                                                     \n",
       "1                             Other languages （其他语种）                                                                                                     \n",
       "2               Maths （数学）, History （历史）, Music （音乐）                                                                                                     \n",
       "3                           Maths （数学）, Science （科学）                                                                                                     \n",
       "4  Maths （数学）, Other languages （其他语种）, Science （科...                                                                                                     \n",
       "5  History （历史）, Literature （文学）, I don't like ed...                                                                                                     \n",
       "6  Maths （数学）, English （英语）, Science （科学）, Histor...                                                                                                     \n",
       "\n",
       "  Of the tower defence games you have played, what improvements would you like to see? （你对塔防游戏有什么改进建议？）  \\\n",
       "0                     Don't like the payment. 付费因素较高                                                      \n",
       "1                                It's too tough. 太难了                                                      \n",
       "2                                                NaN                                                      \n",
       "3                                            None. 无                                                      \n",
       "4  I am slow to accept new things. Don't update t...                                                      \n",
       "5  I hope Plants vs Zombies can allow users to de...                                                      \n",
       "6  I hope the shortcut keys would be more user-fr...                                                      \n",
       "\n",
       "  What would you like to see in a tower defence game that you haven't seen  before? eg. mechanic, style. 你想在塔防游戏中见什么没见过的元素？比如什么置物、类型、设计？  \\\n",
       "0                                                NaN                                                                                       \n",
       "1                   Plants, animals, foods. 植物，动物，吃的                                                                                       \n",
       "2                                            None. 无                                                                                       \n",
       "3  I hope to see the 'Pass' sign at each level. I...                                                                                       \n",
       "4  Still eyesight to prevent from feeling dizzy. ...                                                                                       \n",
       "5  I hope to see my opponent not wearing clothes ...                                                                                       \n",
       "6                                         Design. 设计                                                                                       \n",
       "\n",
       "  Age 你的年龄？我们会保密哒（必填）  \\\n",
       "0             19 ~ 28   \n",
       "1             19 ~ 28   \n",
       "2             43 ~ 60   \n",
       "3             43 ~ 60   \n",
       "4             19 ~ 28   \n",
       "5             29 ~ 35   \n",
       "6             36 ~ 42   \n",
       "\n",
       "  How long do you play TD games in one sitting? 你每次玩塔防游戏一般玩多久？（必填）  \n",
       "0                            30 min - 1 hr. 30分钟到一小时                \n",
       "1                                     < 5 min. 少于5分钟                \n",
       "2                                     < 5 min. 少于5分钟                \n",
       "3                                     < 5 min. 少于5分钟                \n",
       "4                                 5 - 10 min. 5到10分钟                \n",
       "5                            30 min - 1 hr. 30分钟到一小时                \n",
       "6                               10 - 30 min. 10到30分钟                "
      ]
     },
     "execution_count": 7,
     "metadata": {},
     "output_type": "execute_result"
    }
   ],
   "source": [
    "# the below file is my dataset: \n",
    "# the file is a combined result, with both Typeform results and Chinese results. \n",
    "origin = r'Chinese_responses.xlsx' # set the mode as 'only read', as we don't change the file\n",
    "dfc = pd.read_excel(origin) # 'df' is our data set's name\n",
    "# df = pd.read_excel(file, encoding='gb18030') # I put an encoding since there was a Unicode Decode error. \n",
    "dfc  "
   ]
  },
  {
   "cell_type": "code",
   "execution_count": 8,
   "metadata": {},
   "outputs": [
    {
     "data": {
      "text/html": [
       "<div>\n",
       "<style scoped>\n",
       "    .dataframe tbody tr th:only-of-type {\n",
       "        vertical-align: middle;\n",
       "    }\n",
       "\n",
       "    .dataframe tbody tr th {\n",
       "        vertical-align: top;\n",
       "    }\n",
       "\n",
       "    .dataframe thead th {\n",
       "        text-align: right;\n",
       "    }\n",
       "</style>\n",
       "<table border=\"1\" class=\"dataframe\">\n",
       "  <thead>\n",
       "    <tr style=\"text-align: right;\">\n",
       "      <th></th>\n",
       "      <th>People 提交者（自动）</th>\n",
       "      <th>Submission Time 提交时间（自动）</th>\n",
       "      <th>Gender 你的性别？（必填）</th>\n",
       "      <th>Where are you from? 你来自世界上的哪里？（必填）</th>\n",
       "      <th>Job 你的工作？选一个最贴切的（必填）</th>\n",
       "      <th>Do you know TD games? 你知道塔防游戏吗？（必填）</th>\n",
       "      <th>How often do you play TD games? 你多久玩一次塔防游戏？（必填）</th>\n",
       "      <th>Of the tower defence games you like, what game(s) did you like?  塔防游戏中，你最喜欢哪个？</th>\n",
       "      <th>How difficult would you like a tower defence game to be? 你喜欢哪种游戏难度？（必填）</th>\n",
       "      <th>What theme of tower defense game do you prefer? 你喜欢哪种类型/主题的塔防游戏？（必填）</th>\n",
       "      <th>If you would play a tower defence game with educational elements, what subjects would you like to see taught in it?  如果塔防游戏中加入教育元素，你最希望是哪个（些）学科？（必填）</th>\n",
       "      <th>Of the tower defence games you have played, what improvements would you like to see? （你对塔防游戏有什么改进建议？）</th>\n",
       "      <th>What would you like to see in a tower defence game that you haven't seen  before? eg. mechanic, style. 你想在塔防游戏中见什么没见过的元素？比如什么置物、类型、设计？</th>\n",
       "      <th>Age 你的年龄？我们会保密哒（必填）</th>\n",
       "      <th>How long do you play TD games in one sitting? 你每次玩塔防游戏一般玩多久？（必填）</th>\n",
       "    </tr>\n",
       "  </thead>\n",
       "  <tbody>\n",
       "    <tr>\n",
       "      <th>count</th>\n",
       "      <td>7</td>\n",
       "      <td>7</td>\n",
       "      <td>7</td>\n",
       "      <td>7</td>\n",
       "      <td>7</td>\n",
       "      <td>7</td>\n",
       "      <td>7</td>\n",
       "      <td>6</td>\n",
       "      <td>7</td>\n",
       "      <td>7</td>\n",
       "      <td>7</td>\n",
       "      <td>6</td>\n",
       "      <td>6</td>\n",
       "      <td>7</td>\n",
       "      <td>7</td>\n",
       "    </tr>\n",
       "    <tr>\n",
       "      <th>unique</th>\n",
       "      <td>7</td>\n",
       "      <td>7</td>\n",
       "      <td>2</td>\n",
       "      <td>1</td>\n",
       "      <td>6</td>\n",
       "      <td>3</td>\n",
       "      <td>3</td>\n",
       "      <td>6</td>\n",
       "      <td>2</td>\n",
       "      <td>3</td>\n",
       "      <td>7</td>\n",
       "      <td>6</td>\n",
       "      <td>6</td>\n",
       "      <td>4</td>\n",
       "      <td>4</td>\n",
       "    </tr>\n",
       "    <tr>\n",
       "      <th>top</th>\n",
       "      <td>利剑</td>\n",
       "      <td>2021-12-01 03:19:12</td>\n",
       "      <td>Male （男）</td>\n",
       "      <td>Asia （亚洲）</td>\n",
       "      <td>Bank （银行)</td>\n",
       "      <td>Somewhat, I've played Plants vs. Zombies, but ...</td>\n",
       "      <td>Seldom （从不）</td>\n",
       "      <td>Tank battles. 几百年前小霸王游戏机里的坦克大战</td>\n",
       "      <td>Tough but fair （难，但有道理）</td>\n",
       "      <td>Cute &amp; cartoon (卡通可爱）</td>\n",
       "      <td>Maths （数学）, English （英语）, Science （科学）, Histor...</td>\n",
       "      <td>It's too tough. 太难了</td>\n",
       "      <td>I hope to see the 'Pass' sign at each level. I...</td>\n",
       "      <td>19 ~ 28</td>\n",
       "      <td>&lt; 5 min. 少于5分钟</td>\n",
       "    </tr>\n",
       "    <tr>\n",
       "      <th>freq</th>\n",
       "      <td>1</td>\n",
       "      <td>1</td>\n",
       "      <td>4</td>\n",
       "      <td>7</td>\n",
       "      <td>2</td>\n",
       "      <td>3</td>\n",
       "      <td>3</td>\n",
       "      <td>1</td>\n",
       "      <td>6</td>\n",
       "      <td>3</td>\n",
       "      <td>1</td>\n",
       "      <td>1</td>\n",
       "      <td>1</td>\n",
       "      <td>3</td>\n",
       "      <td>3</td>\n",
       "    </tr>\n",
       "    <tr>\n",
       "      <th>first</th>\n",
       "      <td>NaN</td>\n",
       "      <td>2021-11-30 17:00:48</td>\n",
       "      <td>NaN</td>\n",
       "      <td>NaN</td>\n",
       "      <td>NaN</td>\n",
       "      <td>NaN</td>\n",
       "      <td>NaN</td>\n",
       "      <td>NaN</td>\n",
       "      <td>NaN</td>\n",
       "      <td>NaN</td>\n",
       "      <td>NaN</td>\n",
       "      <td>NaN</td>\n",
       "      <td>NaN</td>\n",
       "      <td>NaN</td>\n",
       "      <td>NaN</td>\n",
       "    </tr>\n",
       "    <tr>\n",
       "      <th>last</th>\n",
       "      <td>NaN</td>\n",
       "      <td>2021-12-01 08:12:44</td>\n",
       "      <td>NaN</td>\n",
       "      <td>NaN</td>\n",
       "      <td>NaN</td>\n",
       "      <td>NaN</td>\n",
       "      <td>NaN</td>\n",
       "      <td>NaN</td>\n",
       "      <td>NaN</td>\n",
       "      <td>NaN</td>\n",
       "      <td>NaN</td>\n",
       "      <td>NaN</td>\n",
       "      <td>NaN</td>\n",
       "      <td>NaN</td>\n",
       "      <td>NaN</td>\n",
       "    </tr>\n",
       "  </tbody>\n",
       "</table>\n",
       "</div>"
      ],
      "text/plain": [
       "       People 提交者（自动） Submission Time 提交时间（自动） Gender 你的性别？（必填）  \\\n",
       "count               7                        7                7   \n",
       "unique              7                        7                2   \n",
       "top                利剑      2021-12-01 03:19:12         Male （男）   \n",
       "freq                1                        1                4   \n",
       "first             NaN      2021-11-30 17:00:48              NaN   \n",
       "last              NaN      2021-12-01 08:12:44              NaN   \n",
       "\n",
       "       Where are you from? 你来自世界上的哪里？（必填） Job 你的工作？选一个最贴切的（必填）  \\\n",
       "count                                   7                    7   \n",
       "unique                                  1                    6   \n",
       "top                             Asia （亚洲）            Bank （银行)   \n",
       "freq                                    7                    2   \n",
       "first                                 NaN                  NaN   \n",
       "last                                  NaN                  NaN   \n",
       "\n",
       "                      Do you know TD games? 你知道塔防游戏吗？（必填）  \\\n",
       "count                                                   7   \n",
       "unique                                                  3   \n",
       "top     Somewhat, I've played Plants vs. Zombies, but ...   \n",
       "freq                                                    3   \n",
       "first                                                 NaN   \n",
       "last                                                  NaN   \n",
       "\n",
       "       How often do you play TD games? 你多久玩一次塔防游戏？（必填）  \\\n",
       "count                                                7   \n",
       "unique                                               3   \n",
       "top                                        Seldom （从不）   \n",
       "freq                                                 3   \n",
       "first                                              NaN   \n",
       "last                                               NaN   \n",
       "\n",
       "       Of the tower defence games you like, what game(s) did you like?  塔防游戏中，你最喜欢哪个？  \\\n",
       "count                                                   6                               \n",
       "unique                                                  6                               \n",
       "top                        Tank battles. 几百年前小霸王游戏机里的坦克大战                               \n",
       "freq                                                    1                               \n",
       "first                                                 NaN                               \n",
       "last                                                  NaN                               \n",
       "\n",
       "       How difficult would you like a tower defence game to be? 你喜欢哪种游戏难度？（必填）  \\\n",
       "count                                                   7                        \n",
       "unique                                                  2                        \n",
       "top                               Tough but fair （难，但有道理）                        \n",
       "freq                                                    6                        \n",
       "first                                                 NaN                        \n",
       "last                                                  NaN                        \n",
       "\n",
       "       What theme of tower defense game do you prefer? 你喜欢哪种类型/主题的塔防游戏？（必填）  \\\n",
       "count                                                   7                     \n",
       "unique                                                  3                     \n",
       "top                                 Cute & cartoon (卡通可爱）                     \n",
       "freq                                                    3                     \n",
       "first                                                 NaN                     \n",
       "last                                                  NaN                     \n",
       "\n",
       "       If you would play a tower defence game with educational elements, what subjects would you like to see taught in it?  如果塔防游戏中加入教育元素，你最希望是哪个（些）学科？（必填）  \\\n",
       "count                                                   7                                                                                                     \n",
       "unique                                                  7                                                                                                     \n",
       "top     Maths （数学）, English （英语）, Science （科学）, Histor...                                                                                                     \n",
       "freq                                                    1                                                                                                     \n",
       "first                                                 NaN                                                                                                     \n",
       "last                                                  NaN                                                                                                     \n",
       "\n",
       "       Of the tower defence games you have played, what improvements would you like to see? （你对塔防游戏有什么改进建议？）  \\\n",
       "count                                                   6                                                      \n",
       "unique                                                  6                                                      \n",
       "top                                   It's too tough. 太难了                                                      \n",
       "freq                                                    1                                                      \n",
       "first                                                 NaN                                                      \n",
       "last                                                  NaN                                                      \n",
       "\n",
       "       What would you like to see in a tower defence game that you haven't seen  before? eg. mechanic, style. 你想在塔防游戏中见什么没见过的元素？比如什么置物、类型、设计？  \\\n",
       "count                                                   6                                                                                       \n",
       "unique                                                  6                                                                                       \n",
       "top     I hope to see the 'Pass' sign at each level. I...                                                                                       \n",
       "freq                                                    1                                                                                       \n",
       "first                                                 NaN                                                                                       \n",
       "last                                                  NaN                                                                                       \n",
       "\n",
       "       Age 你的年龄？我们会保密哒（必填）  \\\n",
       "count                    7   \n",
       "unique                   4   \n",
       "top                19 ~ 28   \n",
       "freq                     3   \n",
       "first                  NaN   \n",
       "last                   NaN   \n",
       "\n",
       "       How long do you play TD games in one sitting? 你每次玩塔防游戏一般玩多久？（必填）  \n",
       "count                                                   7                \n",
       "unique                                                  4                \n",
       "top                                        < 5 min. 少于5分钟                \n",
       "freq                                                    3                \n",
       "first                                                 NaN                \n",
       "last                                                  NaN                "
      ]
     },
     "execution_count": 8,
     "metadata": {},
     "output_type": "execute_result"
    }
   ],
   "source": [
    "dfc.describe()"
   ]
  },
  {
   "cell_type": "code",
   "execution_count": 11,
   "metadata": {},
   "outputs": [
    {
     "data": {
      "image/png": "[encoded data removed]",
      "text/plain": [
       "<Figure size 432x288 with 1 Axes>"
      ]
     },
     "metadata": {},
     "output_type": "display_data"
    }
   ],
   "source": [
    "table = pd.crosstab(dfc['Age 你的年龄？我们会保密哒（必填）'], \n",
    "                    dfc['Gender 你的性别？（必填）'], margins=True)\n",
    "# table.drop('All', axis='rows', inplace=True)\n",
    "table = table.sort_values(by='Age 你的年龄？我们会保密哒（必填）', ascending=True)\n",
    "table.drop('All', inplace=True)\n",
    "\n",
    "ax = table.plot.barh()\n",
    "ax.invert_yaxis()\n",
    "ax.set_title('Age by genders')\n",
    "plt.show()"
   ]
  },
  {
   "cell_type": "markdown",
   "metadata": {},
   "source": [
    "### Insights: \n",
    "- Top 1 group people in our sample (mainland China version) is young people. \n",
    "- We have also many samples from middle-aged people. \n",
    "- Many sampled people here are young females, and middle-aged males. "
   ]
  },
  {
   "cell_type": "code",
   "execution_count": 14,
   "metadata": {
    "scrolled": true
   },
   "outputs": [
    {
     "data": {
      "image/png": "[encoded data removed]",
      "text/plain": [
       "<Figure size 432x288 with 1 Axes>"
      ]
     },
     "metadata": {},
     "output_type": "display_data"
    }
   ],
   "source": [
    "table = pd.crosstab(dfc['How long do you play TD games in one sitting? 你每次玩塔防游戏一般玩多久？（必填）'], \n",
    "                    dfc['Gender 你的性别？（必填）'], margins=True)\n",
    "# table.drop('All', axis='rows', inplace=True)\n",
    "table = table.sort_values(by='How long do you play TD games in one sitting? 你每次玩塔防游戏一般玩多久？（必填）', ascending=False)\n",
    "table.drop('All', inplace=True)\n",
    "\n",
    "ax = table.plot.barh()\n",
    "ax.invert_yaxis()\n",
    "ax.set_title('Duration by genders')\n",
    "plt.show()"
   ]
  },
  {
   "cell_type": "markdown",
   "metadata": {},
   "source": [
    "### Insights: \n",
    "- Almost a half of the people here only play TD games < 5 min, which means they seldom play this type of game. We should consider how to attract these group of people. \n",
    "- Surprisingly, there are 3 females play TD games > 30 min in one sitting. We should consider how to meet their needs in developing a game with continous stories. And, we should consider how to constrain their usage of screen for protection of their health, as we truly hope to educate people. "
   ]
  },
  {
   "cell_type": "code",
   "execution_count": null,
   "metadata": {},
   "outputs": [],
   "source": []
  },
  {
   "cell_type": "code",
   "execution_count": null,
   "metadata": {},
   "outputs": [],
   "source": []
  },
  {
   "cell_type": "markdown",
   "metadata": {},
   "source": [
    "## Suggestions from all answers collected: \n",
    "- 'Ability to speed up attacks if there is a level system, so you dont have to wait for the attack and defense to play out. '\n",
    "- 'Skin customization. '\n",
    "- 'More levels. '\n",
    "- 'More fair less grind.'\n",
    "- 'Naming squads or troops ability. '\n",
    "- 'Bigger freedom for enemy's movement. '\n",
    "- 'More skills and magic. '\n",
    "- 'Prefer less payment. '\n",
    "- 'I am slow to accept new things. Don't update the types of tower too often. Don't like big games. '\n",
    "- 'I hope Plants vs Zombies can allow users to design the map or site just like Tank Battles. '\n",
    "- 'I hope the shortcut keys would be more user-friendly. '\n",
    "\n",
    "## Our (Chinese) users hope to see these elements: \n",
    "- 'Plants, animals, foods. '\n",
    "- 'I hope to see the \"Pass\" sign at each level. I hope to own many types of weapons at the beginning, and my lives are full. I like the beautiful and bright scene, rather than dark colour design. '\n",
    "- 'Still eyesight to prevent from feeling dizzy. Simple and small games with a sense of design. '\n",
    "- 'Design. '"
   ]
  },
  {
   "cell_type": "code",
   "execution_count": null,
   "metadata": {},
   "outputs": [],
   "source": []
  },
  {
   "cell_type": "code",
   "execution_count": null,
   "metadata": {},
   "outputs": [],
   "source": []
  },
  {
   "cell_type": "code",
   "execution_count": null,
   "metadata": {},
   "outputs": [],
   "source": []
  }
 ],
 "metadata": {
  "kernelspec": {
   "display_name": "Python 3",
   "language": "python",
   "name": "python3"
  },
  "language_info": {
   "codemirror_mode": {
    "name": "ipython",
    "version": 3
   },
   "file_extension": ".py",
   "mimetype": "text/x-python",
   "name": "python",
   "nbconvert_exporter": "python",
   "pygments_lexer": "ipython3",
   "version": "3.7.6"
  }
 },
 "nbformat": 4,
 "nbformat_minor": 4
}
